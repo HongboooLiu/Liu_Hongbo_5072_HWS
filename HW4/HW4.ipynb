{
 "cells": [
  {
   "cell_type": "markdown",
   "id": "a26b78b3",
   "metadata": {},
   "source": [
    "## HW4 \n",
    "## Hongbo Liu "
   ]
  },
  {
   "cell_type": "markdown",
   "id": "68d076bd",
   "metadata": {},
   "source": [
    "1. Book class"
   ]
  },
  {
   "cell_type": "markdown",
   "id": "38c2d370",
   "metadata": {},
   "source": [
    "a) Create Book class"
   ]
  },
  {
   "cell_type": "code",
   "execution_count": 72,
   "id": "04f307c0",
   "metadata": {},
   "outputs": [],
   "source": [
    "class Book():\n",
    "    def __init__(self, title=\"\", author=\"\",genre=\"\",grade_level=\"\",pages=\"\"):\n",
    "        self.title=title\n",
    "        self.author=author \n",
    "        self.genre=genre\n",
    "        self.grade_level= grade_level\n",
    "        self.pages=pages\n",
    "        "
   ]
  },
  {
   "cell_type": "markdown",
   "id": "d226f27f",
   "metadata": {},
   "source": [
    "b) Add str method to the Book class"
   ]
  },
  {
   "cell_type": "code",
   "execution_count": 73,
   "id": "fcf6b169",
   "metadata": {},
   "outputs": [],
   "source": [
    "class Book():\n",
    "    def __init__(self, title, author,genre,grade_level,pages):\n",
    "        self.title=title\n",
    "        self.author=author \n",
    "        self.genre=genre\n",
    "        self.grade_level= grade_level\n",
    "        self.pages=pages\n",
    "    def __str__(self):\n",
    "        return \"The book \"+self.title+\" by \"+self.author+\" is a \"+self.genre+  \" book for \"+ str(self.grade_level) + \" grade.\""
   ]
  },
  {
   "cell_type": "markdown",
   "id": "38af80f4",
   "metadata": {},
   "source": [
    "c) Create Book objects"
   ]
  },
  {
   "cell_type": "markdown",
   "id": "32e4c8d8",
   "metadata": {},
   "source": [
    "Use an iterative process to initialize 10 Book objects with the information from the following Python list:"
   ]
  },
  {
   "cell_type": "code",
   "execution_count": 74,
   "id": "5b2fcad9",
   "metadata": {},
   "outputs": [],
   "source": [
    "books = [\n",
    "    {\n",
    "        \"title\": \"The Hunger Games\",\n",
    "        \"author\": \"Suzanne Collins\",\n",
    "        \"genre\": \"Science Fiction\",\n",
    "        \"grade_level\": 7,\n",
    "        \"pages\": 374\n",
    "    },\n",
    "    {\n",
    "        \"title\": \"Harry Potter and the Sorcerer's Stone\",\n",
    "        \"author\": \"J.K. Rowling\",\n",
    "        \"genre\": \"Fantasy\",\n",
    "        \"grade_level\": 5,\n",
    "        \"pages\": 309\n",
    "    },\n",
    "    {\n",
    "        \"title\": \"To Kill a Mockingbird\",\n",
    "        \"author\": \"Harper Lee\",\n",
    "        \"genre\": \"Historical Fiction\",\n",
    "        \"grade_level\": 8,\n",
    "        \"pages\": 281\n",
    "    },\n",
    "    {\n",
    "        \"title\": \"Pride and Prejudice\",\n",
    "        \"author\": \"Jane Austen\",\n",
    "        \"genre\": \"Historical Fiction\",\n",
    "        \"grade_level\": 8,\n",
    "        \"pages\": 279\n",
    "    },\n",
    "    {\n",
    "        \"title\": \"Twilight\",\n",
    "        \"author\": \"Stephenie Meyer\",\n",
    "        \"genre\": \"Fantasy\",\n",
    "        \"grade_level\": 9,\n",
    "        \"pages\": 501\n",
    "    },\n",
    "    {\n",
    "        \"title\": \"The Great Gatsby\",\n",
    "        \"author\": \"F. Scott Fitzgerald\",\n",
    "        \"genre\": \"Historical Fiction\",\n",
    "        \"grade_level\": 10,\n",
    "        \"pages\": 180\n",
    "    },\n",
    "    {\n",
    "        \"title\": \"The Fault in Our Stars\",\n",
    "        \"author\": \"John Green\",\n",
    "        \"genre\": \"Science Fiction\",\n",
    "        \"grade_level\": 9,\n",
    "        \"pages\": 313\n",
    "    },\n",
    "    {\n",
    "        \"title\": \"The Book Thief\",\n",
    "        \"author\": \"Markus Zusak\",\n",
    "        \"genre\": \"Historical Fiction\",\n",
    "        \"grade_level\": 8,\n",
    "        \"pages\": 552\n",
    "    },\n",
    "    {\n",
    "        \"title\": \"The Hobbit\",\n",
    "        \"author\": \"J.R.R. Tolkien\",\n",
    "        \"genre\": \"Fantasy\",\n",
    "        \"grade_level\": 7,\n",
    "        \"pages\": 310\n",
    "    },\n",
    "    {\n",
    "        \"title\": \"The Catcher in the Rye\",\n",
    "        \"author\": \"J.D. Salinger\",\n",
    "        \"genre\": \"Historical Fiction\",\n",
    "        \"grade_level\": 10,\n",
    "        \"pages\": 277\n",
    "    }\n",
    "]\n"
   ]
  },
  {
   "cell_type": "code",
   "execution_count": 75,
   "id": "90fa3bc2",
   "metadata": {},
   "outputs": [],
   "source": [
    "bl=[]\n",
    "for i in books: \n",
    "    b=[]\n",
    "    for j in i.values():\n",
    "        b.append(j)\n",
    "    bl.append(b)\n"
   ]
  },
  {
   "cell_type": "code",
   "execution_count": 76,
   "id": "7f20e5c6",
   "metadata": {},
   "outputs": [],
   "source": [
    "bk=[]\n",
    "for i in bl:\n",
    "    bk.append(Book(i[0],i[1],i[2],i[3],i[4]))"
   ]
  },
  {
   "cell_type": "code",
   "execution_count": null,
   "id": "e83c44a6",
   "metadata": {},
   "outputs": [],
   "source": []
  },
  {
   "cell_type": "markdown",
   "id": "58711a30",
   "metadata": {},
   "source": [
    "d) Print Book objects"
   ]
  },
  {
   "cell_type": "markdown",
   "id": "3809438b",
   "metadata": {},
   "source": [
    "Print the string representation of two Book objects."
   ]
  },
  {
   "cell_type": "code",
   "execution_count": 77,
   "id": "b24b8968",
   "metadata": {},
   "outputs": [
    {
     "name": "stdout",
     "output_type": "stream",
     "text": [
      "The book The Hunger Games by Suzanne Collins is a Science Fiction book for 7 grade.\n"
     ]
    }
   ],
   "source": [
    "print(bk[0])"
   ]
  },
  {
   "cell_type": "code",
   "execution_count": 78,
   "id": "d237efe4",
   "metadata": {},
   "outputs": [
    {
     "name": "stdout",
     "output_type": "stream",
     "text": [
      "The book Harry Potter and the Sorcerer's Stone by J.K. Rowling is a Fantasy book for 5 grade.\n"
     ]
    }
   ],
   "source": [
    "print(bk[1])"
   ]
  },
  {
   "cell_type": "markdown",
   "id": "e6de45e4",
   "metadata": {},
   "source": [
    "2. Library class"
   ]
  },
  {
   "cell_type": "markdown",
   "id": "fad1ec1f",
   "metadata": {},
   "source": [
    "a) Create Library class\n",
    "\n",
    "Create a class called Library."
   ]
  },
  {
   "cell_type": "code",
   "execution_count": 79,
   "id": "cd9deb86",
   "metadata": {},
   "outputs": [],
   "source": [
    "class Library:\n",
    "    def __inti__(self):\n",
    "        self.sList = []"
   ]
  },
  {
   "cell_type": "markdown",
   "id": "2d3a5983",
   "metadata": {},
   "source": [
    "b) Add a print method to the Library class\n",
    "\n",
    "Add a method to Library that prints the string representation of all the books in the library."
   ]
  },
  {
   "cell_type": "code",
   "execution_count": 80,
   "id": "e9a4236b",
   "metadata": {},
   "outputs": [],
   "source": [
    "class Library:\n",
    "    def __inti__(self):\n",
    "        self.List = []\n",
    "    def __str__(self):\n",
    "        for i in self.List:\n",
    "            temp = temp + str(i)+\"\\n\"\n",
    "        return temp"
   ]
  },
  {
   "cell_type": "markdown",
   "id": "6d88106f",
   "metadata": {},
   "source": [
    "c) Select books of specific genre\n",
    "\n",
    "Add a method to Library called genre_books that returns a list of books that are in a given genre. The method should take a string as an argument and return a list of Book objects. Initialize it with the ten Book objects from above. Call the method for the genre \"Historical Fiction\" and print the results."
   ]
  },
  {
   "cell_type": "code",
   "execution_count": 81,
   "id": "60af5cf8",
   "metadata": {},
   "outputs": [],
   "source": [
    "class Library:\n",
    "    def __init__(self):\n",
    "        self.List = []\n",
    "        \n",
    "    def genre_books(self,genre):\n",
    "        for i in self.List:\n",
    "            if genre in i.genre:\n",
    "                print(i)\n",
    "    def add(self,book):\n",
    "        self.List.append(book)\n",
    "    def __str__(self):\n",
    "        temp= ''\n",
    "        for i in self.List:\n",
    "            temp = temp + str(i)+\"\\n\"\n",
    "        return temp\n",
    "    "
   ]
  },
  {
   "cell_type": "code",
   "execution_count": 82,
   "id": "c0a314c5",
   "metadata": {
    "scrolled": true
   },
   "outputs": [
    {
     "name": "stdout",
     "output_type": "stream",
     "text": [
      "The book The Hunger Games by Suzanne Collins is a Science Fiction book for 7 grade.\n",
      "The book Harry Potter and the Sorcerer's Stone by J.K. Rowling is a Fantasy book for 5 grade.\n",
      "The book To Kill a Mockingbird by Harper Lee is a Historical Fiction book for 8 grade.\n",
      "The book Pride and Prejudice by Jane Austen is a Historical Fiction book for 8 grade.\n",
      "The book Twilight by Stephenie Meyer is a Fantasy book for 9 grade.\n",
      "The book The Great Gatsby by F. Scott Fitzgerald is a Historical Fiction book for 10 grade.\n",
      "The book The Fault in Our Stars by John Green is a Science Fiction book for 9 grade.\n",
      "The book The Book Thief by Markus Zusak is a Historical Fiction book for 8 grade.\n",
      "The book The Hobbit by J.R.R. Tolkien is a Fantasy book for 7 grade.\n",
      "The book The Catcher in the Rye by J.D. Salinger is a Historical Fiction book for 10 grade.\n",
      "\n"
     ]
    }
   ],
   "source": [
    "newlist=Library()\n",
    "for i in bk:\n",
    "    newlist.add(i)\n",
    "print(newlist)"
   ]
  },
  {
   "cell_type": "code",
   "execution_count": 83,
   "id": "4a412097",
   "metadata": {},
   "outputs": [
    {
     "name": "stdout",
     "output_type": "stream",
     "text": [
      "The book To Kill a Mockingbird by Harper Lee is a Historical Fiction book for 8 grade.\n",
      "The book Pride and Prejudice by Jane Austen is a Historical Fiction book for 8 grade.\n",
      "The book The Great Gatsby by F. Scott Fitzgerald is a Historical Fiction book for 10 grade.\n",
      "The book The Book Thief by Markus Zusak is a Historical Fiction book for 8 grade.\n",
      "The book The Catcher in the Rye by J.D. Salinger is a Historical Fiction book for 10 grade.\n"
     ]
    }
   ],
   "source": [
    "newlist.genre_books(\"Historical Fiction\")"
   ]
  },
  {
   "cell_type": "markdown",
   "id": "1680d6a7",
   "metadata": {},
   "source": [
    "d) Select books fitting grade levels"
   ]
  },
  {
   "cell_type": "markdown",
   "id": "55e943a1",
   "metadata": {},
   "source": [
    "Add a method to Library called grade_books that returns a list of books that are in a given grade level selection. The method should take a list of integers (of grade levels) as an argument and return a list of Book objects. Initialize it with the ten Book objects from above. Call the method with a list of two grade levels and print the list of books."
   ]
  },
  {
   "cell_type": "code",
   "execution_count": 84,
   "id": "049d5f8a",
   "metadata": {},
   "outputs": [],
   "source": [
    "class Library:\n",
    "    def __init__(self):\n",
    "        self.List = []\n",
    "        \n",
    "    def genre_books(self,genre):\n",
    "        for i in self.List:\n",
    "            if genre in i.genre:\n",
    "                print(i)\n",
    "    def add(self,book):\n",
    "        self.List.append(book)\n",
    "    def __str__(self):\n",
    "        temp= ''\n",
    "        for i in self.List:\n",
    "            temp = temp + str(i)+\"\\n\"\n",
    "        return temp\n",
    "    def grade_books(self,grade):\n",
    "        for i in self.List:\n",
    "            if grade == i.grade_level:\n",
    "                print(i)"
   ]
  },
  {
   "cell_type": "code",
   "execution_count": 85,
   "id": "67d6a9bb",
   "metadata": {},
   "outputs": [],
   "source": [
    "newlist=Library()\n",
    "for i in bk:\n",
    "    newlist.add(i)\n"
   ]
  },
  {
   "cell_type": "code",
   "execution_count": 86,
   "id": "0d9a380e",
   "metadata": {},
   "outputs": [
    {
     "name": "stdout",
     "output_type": "stream",
     "text": [
      "The book To Kill a Mockingbird by Harper Lee is a Historical Fiction book for 8 grade.\n",
      "The book Pride and Prejudice by Jane Austen is a Historical Fiction book for 8 grade.\n",
      "The book The Book Thief by Markus Zusak is a Historical Fiction book for 8 grade.\n"
     ]
    }
   ],
   "source": [
    "newlist.grade_books(8)"
   ]
  },
  {
   "cell_type": "code",
   "execution_count": 87,
   "id": "c7ec5846",
   "metadata": {},
   "outputs": [
    {
     "name": "stdout",
     "output_type": "stream",
     "text": [
      "The book Twilight by Stephenie Meyer is a Fantasy book for 9 grade.\n",
      "The book The Fault in Our Stars by John Green is a Science Fiction book for 9 grade.\n"
     ]
    }
   ],
   "source": [
    "newlist.grade_books(9)"
   ]
  },
  {
   "cell_type": "markdown",
   "id": "f62c9357",
   "metadata": {},
   "source": [
    "e) Combining methods"
   ]
  },
  {
   "cell_type": "markdown",
   "id": "dc3e6a57",
   "metadata": {},
   "source": [
    "Add a method to Library called recommend_books that returns a list of books. The method should have three optional arguments to narrow the list of books returned:"
   ]
  },
  {
   "cell_type": "code",
   "execution_count": 118,
   "id": "f47430e4",
   "metadata": {},
   "outputs": [],
   "source": [
    "class Library:\n",
    "    def __init__(self):\n",
    "        self.List = []\n",
    "        \n",
    "    def genre_books(self,genre):\n",
    "        for i in self.List:\n",
    "            if genre in i.genre:\n",
    "                print(i)\n",
    "    def add(self,book):\n",
    "        self.List.append(book)\n",
    "    def __str__(self):\n",
    "        temp= ''\n",
    "        for i in self.List:\n",
    "            temp = temp + str(i)+\"\\n\"\n",
    "        return temp\n",
    "    def grade_books(self,grade):\n",
    "        for i in self.List:\n",
    "            if grade == i.grade_level:\n",
    "                print(i)\n",
    "    def recommend_books(self, genre=\"default\", grade=\"default\", max_pages=\"default\"):\n",
    "        L_1=[]\n",
    "        L_2=[]\n",
    "        L_3=[]\n",
    "        L_4=[]\n",
    "        for i in self.List:\n",
    "            if genre==\"default\":\n",
    "                L_1=self.List\n",
    "                break\n",
    "            elif genre in i.genre:\n",
    "                L_1.append(i)\n",
    "        for i in self.List:\n",
    "            if grade==\"default\":\n",
    "                L_2=self.List\n",
    "                break\n",
    "            elif grade == i.grade_level:\n",
    "                L_2.append(i)\n",
    "        for i in self.List:\n",
    "            if max_pages==\"default\":\n",
    "                L_3=self.List\n",
    "                break\n",
    "            elif max_pages>=i.pages:\n",
    "                L_3.append(i)\n",
    "        L_4=list(set(list(set(L_1).intersection(L_2))).intersection(L_3))\n",
    "        for i in L_4:\n",
    "            print(i)\n",
    "    \n",
    "        if bool(L_4)==False:\n",
    "            print(\"No such book was found\")"
   ]
  },
  {
   "cell_type": "code",
   "execution_count": 119,
   "id": "6b888a5c",
   "metadata": {},
   "outputs": [],
   "source": [
    "newlist=Library()\n",
    "for i in bk:\n",
    "    newlist.add(i)\n"
   ]
  },
  {
   "cell_type": "code",
   "execution_count": 120,
   "id": "04e19d9e",
   "metadata": {},
   "outputs": [
    {
     "name": "stdout",
     "output_type": "stream",
     "text": [
      "The book Pride and Prejudice by Jane Austen is a Historical Fiction book for 8 grade.\n",
      "The book To Kill a Mockingbird by Harper Lee is a Historical Fiction book for 8 grade.\n"
     ]
    }
   ],
   "source": [
    "newlist.recommend_books(grade=8,max_pages=300)"
   ]
  },
  {
   "cell_type": "code",
   "execution_count": 121,
   "id": "3b3e1393",
   "metadata": {},
   "outputs": [
    {
     "name": "stdout",
     "output_type": "stream",
     "text": [
      "No such book was found\n"
     ]
    }
   ],
   "source": [
    "newlist.recommend_books(grade=9,max_pages=300)"
   ]
  },
  {
   "cell_type": "code",
   "execution_count": 123,
   "id": "e3341e2d",
   "metadata": {},
   "outputs": [
    {
     "name": "stdout",
     "output_type": "stream",
     "text": [
      "The book The Catcher in the Rye by J.D. Salinger is a Historical Fiction book for 10 grade.\n",
      "The book The Great Gatsby by F. Scott Fitzgerald is a Historical Fiction book for 10 grade.\n"
     ]
    }
   ],
   "source": [
    "newlist.recommend_books(grade=10,max_pages=300)"
   ]
  },
  {
   "cell_type": "code",
   "execution_count": null,
   "id": "0e6c00ca",
   "metadata": {},
   "outputs": [],
   "source": []
  }
 ],
 "metadata": {
  "kernelspec": {
   "display_name": "Python 3",
   "language": "python",
   "name": "python3"
  },
  "language_info": {
   "codemirror_mode": {
    "name": "ipython",
    "version": 3
   },
   "file_extension": ".py",
   "mimetype": "text/x-python",
   "name": "python",
   "nbconvert_exporter": "python",
   "pygments_lexer": "ipython3",
   "version": "3.8.8"
  }
 },
 "nbformat": 4,
 "nbformat_minor": 5
}
