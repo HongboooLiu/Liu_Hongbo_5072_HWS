{
 "cells": [
  {
   "cell_type": "markdown",
   "id": "20caed06",
   "metadata": {},
   "source": [
    "## HW5 \n",
    "## Hongbo Liu\n"
   ]
  },
  {
   "cell_type": "markdown",
   "id": "c6ae674d",
   "metadata": {},
   "source": [
    "a) Length of Narratives\n",
    "Read in the data. Find and display the longest and shortest description."
   ]
  },
  {
   "cell_type": "code",
   "execution_count": 331,
   "id": "66ac1ac5",
   "metadata": {},
   "outputs": [],
   "source": [
    "import pandas as pd\n",
    "import re"
   ]
  },
  {
   "cell_type": "code",
   "execution_count": 332,
   "id": "7feb6a19",
   "metadata": {},
   "outputs": [],
   "source": [
    "df=pd.read_csv(\"C:/Users/22151/Desktop/emergency.csv\",header=None)"
   ]
  },
  {
   "cell_type": "code",
   "execution_count": 333,
   "id": "f9e417e2",
   "metadata": {},
   "outputs": [
    {
     "data": {
      "text/html": [
       "<div>\n",
       "<style scoped>\n",
       "    .dataframe tbody tr th:only-of-type {\n",
       "        vertical-align: middle;\n",
       "    }\n",
       "\n",
       "    .dataframe tbody tr th {\n",
       "        vertical-align: top;\n",
       "    }\n",
       "\n",
       "    .dataframe thead th {\n",
       "        text-align: right;\n",
       "    }\n",
       "</style>\n",
       "<table border=\"1\" class=\"dataframe\">\n",
       "  <thead>\n",
       "    <tr style=\"text-align: right;\">\n",
       "      <th></th>\n",
       "      <th>0</th>\n",
       "    </tr>\n",
       "  </thead>\n",
       "  <tbody>\n",
       "    <tr>\n",
       "      <th>0</th>\n",
       "      <td>10 MO F FELL OUT OF SHOPPING CART;DX FRACTURED...</td>\n",
       "    </tr>\n",
       "    <tr>\n",
       "      <th>1</th>\n",
       "      <td>75YOF WITH LAC TO FINGER FROM METAL CAN</td>\n",
       "    </tr>\n",
       "    <tr>\n",
       "      <th>2</th>\n",
       "      <td>8YOF FRACTURED FINGER FELL OFF HER BIKE</td>\n",
       "    </tr>\n",
       "    <tr>\n",
       "      <th>3</th>\n",
       "      <td>9 YOM TACKLED DURING FOOTBALL PRACTICE.  DX: C...</td>\n",
       "    </tr>\n",
       "    <tr>\n",
       "      <th>4</th>\n",
       "      <td>PT WAS HIT ON RT SIDE WHILE PLAYING FOOTBALL D...</td>\n",
       "    </tr>\n",
       "  </tbody>\n",
       "</table>\n",
       "</div>"
      ],
      "text/plain": [
       "                                                   0\n",
       "0  10 MO F FELL OUT OF SHOPPING CART;DX FRACTURED...\n",
       "1           75YOF WITH LAC TO FINGER FROM METAL CAN \n",
       "2           8YOF FRACTURED FINGER FELL OFF HER BIKE \n",
       "3  9 YOM TACKLED DURING FOOTBALL PRACTICE.  DX: C...\n",
       "4  PT WAS HIT ON RT SIDE WHILE PLAYING FOOTBALL D..."
      ]
     },
     "execution_count": 333,
     "metadata": {},
     "output_type": "execute_result"
    }
   ],
   "source": [
    "df.head()"
   ]
  },
  {
   "cell_type": "code",
   "execution_count": 334,
   "id": "2d5fecaa",
   "metadata": {},
   "outputs": [],
   "source": [
    "df=df[0]"
   ]
  },
  {
   "cell_type": "code",
   "execution_count": 335,
   "id": "42757169",
   "metadata": {},
   "outputs": [
    {
     "data": {
      "text/plain": [
       "76.4555"
      ]
     },
     "execution_count": 335,
     "metadata": {},
     "output_type": "execute_result"
    }
   ],
   "source": [
    "df.str.len().mean()   "
   ]
  },
  {
   "cell_type": "code",
   "execution_count": 336,
   "id": "b43d8ecd",
   "metadata": {},
   "outputs": [
    {
     "data": {
      "text/plain": [
       "109     40YOM-C/O FOOT/HEEL PAIN RUNNIJNG BACKWARDS FE...\n",
       "511     19MOWF  PARENTS HOLDING PT.  DAD STATES SHE WA...\n",
       "630     44YOF  PT HAVING SEVERE R ARM PAIN THAT IS RAD...\n",
       "920     57 YO F WAS POURING KEROSENE OVER AN OPEN FLAM...\n",
       "1111    13YOM DID OUTDOOR WORKOUT X1 1/2 HRS, DEVELOEP...\n",
       "                              ...                        \n",
       "9370    20 YO M, RUNNING FROM POLICE AFTER AN ALLEGED ...\n",
       "9666    22YOM WAS LIGHTING PROPANE PIZZA OVEN ON FRI. ...\n",
       "9670    45YOWM  TONIGHT PT WAS TRYING TO MOVE HIS FATH...\n",
       "9749    PT.INJ.NOSE,HAND,WRIST,ELBOW WHEN RIDING BIKE ...\n",
       "9853    15YF ON BUS TO SOCCER GAME&NOTICED \"FUNNY SMEL...\n",
       "Name: 0, Length: 66, dtype: object"
      ]
     },
     "execution_count": 336,
     "metadata": {},
     "output_type": "execute_result"
    }
   ],
   "source": [
    "df[df.str.len()==df.str.len().max()]"
   ]
  },
  {
   "cell_type": "code",
   "execution_count": 337,
   "id": "fe0f5cd9",
   "metadata": {},
   "outputs": [
    {
     "data": {
      "text/plain": [
       "7127    ABR HIP ON FLOOR \n",
       "7731    INGESTION OF *** \n",
       "Name: 0, dtype: object"
      ]
     },
     "execution_count": 337,
     "metadata": {},
     "output_type": "execute_result"
    }
   ],
   "source": [
    "df[df.str.len()==df.str.len().min()]"
   ]
  },
  {
   "cell_type": "code",
   "execution_count": 338,
   "id": "3bc6fa4c",
   "metadata": {},
   "outputs": [
    {
     "name": "stdout",
     "output_type": "stream",
     "text": [
      "The longest description is 40YOM-C/O FOOT/HEEL PAIN RUNNIJNG BACKWARDS FELT TEARING SENSATION IN F OOT AFTER WARM UP EXERCISES FOR SOCCER  DX PLANTER FASCITIS ACUTE FLARE.\n"
     ]
    }
   ],
   "source": [
    "print(\"The longest description is {}.\".format(df[109]))"
   ]
  },
  {
   "cell_type": "code",
   "execution_count": 339,
   "id": "2183d9c2",
   "metadata": {},
   "outputs": [
    {
     "name": "stdout",
     "output_type": "stream",
     "text": [
      "The shortest description is ABR HIP ON FLOOR .\n"
     ]
    }
   ],
   "source": [
    "print(\"The shortest description is {}.\".format(df[7127]))"
   ]
  },
  {
   "cell_type": "markdown",
   "id": "581487d5",
   "metadata": {},
   "source": [
    "b) Fractures\n",
    "Find all narratives related to \"fractures\". Try to include singular/plural/verb forms in your search. Also, FX is the medical abbreviation for fracture, so include that as well. How many fracture narratives can you find?"
   ]
  },
  {
   "cell_type": "code",
   "execution_count": 340,
   "id": "4de477c6",
   "metadata": {},
   "outputs": [],
   "source": [
    "fractures=[des for des in df if re.search(r'(FX|(FRACTURE*))',des)]"
   ]
  },
  {
   "cell_type": "code",
   "execution_count": 341,
   "id": "b2919d46",
   "metadata": {},
   "outputs": [
    {
     "name": "stdout",
     "output_type": "stream",
     "text": [
      "I found 1499 fracture narratives\n"
     ]
    }
   ],
   "source": [
    "print(\"I found {} fracture narratives\".format(len(fractures)))"
   ]
  },
  {
   "cell_type": "markdown",
   "id": "2800ee7a",
   "metadata": {},
   "source": [
    "c) Body Parts\n",
    "Among the fracture narratives, try to identify the body parts that are fractured (Note: Don't go overboard. A selection of parts is sufficient.). Make a histogram of fractured body parts (but make sure plural and singular forms are combined.)"
   ]
  },
  {
   "cell_type": "code",
   "execution_count": 342,
   "id": "4b6fbea8",
   "metadata": {},
   "outputs": [],
   "source": [
    "skull=[des for des in fractures if re.search(r'SKULL*',des)]\n",
    "hand=[des for des in fractures if re.search(r'HAND*',des)]\n",
    "foot=[des for des in fractures if re.search(r'FOOT*',des)]\n",
    "wrist=[des for des in fractures if re.search(r'WRIST*',des)]\n",
    "shoulder=[des for des in fractures if re.search(r'SHOULDER*',des)]\n",
    "elbow=[des for des in fractures if re.search(r'ELBOW*',des)]\n",
    "chest=[des for des in fractures if re.search(r'CHEST*',des)]\n",
    "face=[des for des in fractures if re.search(r'FACE*',des)]\n",
    "finger=[des for des in fractures if re.search(r'FINGER*',des)]"
   ]
  },
  {
   "cell_type": "code",
   "execution_count": 343,
   "id": "cfff517d",
   "metadata": {},
   "outputs": [],
   "source": [
    "d=[len(skull),len(hand),len(foot),len(wrist),len(shoulder),len(elbow),len(chest),len(face),len(finger)]"
   ]
  },
  {
   "cell_type": "code",
   "execution_count": 344,
   "id": "cad656ed",
   "metadata": {},
   "outputs": [],
   "source": [
    "parts=[\"skull\",\"hand\",\"foot\",\"wrist\",\"shoulder\",\"elbow\",\"chest\",\"face\",\"finger\"]"
   ]
  },
  {
   "cell_type": "code",
   "execution_count": 345,
   "id": "99714dea",
   "metadata": {},
   "outputs": [
    {
     "data": {
      "text/plain": [
       "<BarContainer object of 9 artists>"
      ]
     },
     "execution_count": 345,
     "metadata": {},
     "output_type": "execute_result"
    },
    {
     "data": {
      "image/png": "[encoded data removed]",
      "text/plain": [
       "<Figure size 720x504 with 1 Axes>"
      ]
     },
     "metadata": {
      "needs_background": "light"
     },
     "output_type": "display_data"
    }
   ],
   "source": [
    "import numpy as np\n",
    "import matplotlib.pyplot as plt\n",
    "fig = plt.figure(figsize =(10, 7))\n",
    "plt.bar(parts,d)"
   ]
  },
  {
   "cell_type": "markdown",
   "id": "6c22229b",
   "metadata": {},
   "source": [
    "d) Age and Gender\n",
    "Let's try to extract age and gender. In a number of narratives you may have noticed a pattern:"
   ]
  },
  {
   "cell_type": "code",
   "execution_count": 346,
   "id": "902fa485",
   "metadata": {},
   "outputs": [],
   "source": [
    "year=[des for des in df if re.search(r'\\d{1,}\\s?(YO|YR|Y|YOM|YOF|YEAR)',des)]\n",
    "month=[des for des in df if re.search(r'\\d{1,}\\s?(MO|MONTH|MOM|MOF)',des)]"
   ]
  },
  {
   "cell_type": "code",
   "execution_count": 347,
   "id": "25d64730",
   "metadata": {
    "scrolled": true
   },
   "outputs": [],
   "source": [
    "year_male_0=[des for des in year if re.search(r'YO\\s?M',des)]\n",
    "year_male_1=[des for des in year if re.search(r'MALE',des)]\n",
    "year_male=year_male_0+year_male_1"
   ]
  },
  {
   "cell_type": "code",
   "execution_count": 348,
   "id": "d0554c90",
   "metadata": {},
   "outputs": [],
   "source": [
    "year_female_0=[des for des in year if re.search(r'YO\\s?F',des)]\n",
    "year_female_1=[des for des in year if re.search(r'FEMALE',des)]\n",
    "year_female=year_female_0+year_female_1"
   ]
  },
  {
   "cell_type": "code",
   "execution_count": 349,
   "id": "0f309305",
   "metadata": {},
   "outputs": [],
   "source": [
    "month_male_0=[des for des in month if re.search(r'MO\\s?M',des)]\n",
    "month_male_1=[des for des in month if re.search(r'MALE',des)]\n",
    "month_male=month_male_0+month_male_1"
   ]
  },
  {
   "cell_type": "code",
   "execution_count": 350,
   "id": "26162c36",
   "metadata": {},
   "outputs": [],
   "source": [
    "month_female_0=[des for des in month if re.search(r'MO\\s?F',des)]\n",
    "month_female_1=[des for des in month if re.search(r'FEMALE',des)]\n",
    "month_female=month_female_0+month_female_1"
   ]
  },
  {
   "cell_type": "code",
   "execution_count": 351,
   "id": "48a0a55a",
   "metadata": {},
   "outputs": [],
   "source": [
    "df2=[]\n",
    "for i in year+month: \n",
    "    kk=[]\n",
    "    if i in year_male:\n",
    "        kk=[i,\"male\",float(re.search(\"\\d{1,}\",i)[0])]\n",
    "        df2.append(kk)\n",
    "    if i in year_female:\n",
    "        kk=[i,\"female\",float(re.search(\"\\d{1,}\",i)[0])]\n",
    "        df2.append(kk)\n",
    "    if i in month_male:\n",
    "        kk=[i,\"male\",float(re.search(\"\\d{1,}\",i)[0])//12]\n",
    "        df2.append(kk)\n",
    "    if i in month_female:\n",
    "        kk=[i,\"female\",float(re.search(\"\\d{1,}\",i)[0])//12]\n",
    "        df2.append(kk)"
   ]
  },
  {
   "cell_type": "code",
   "execution_count": 352,
   "id": "87ad5dbc",
   "metadata": {},
   "outputs": [],
   "source": [
    "df_2=pd.DataFrame(df2,columns = [\"text\",\"gender\",\"age\"])"
   ]
  },
  {
   "cell_type": "code",
   "execution_count": 353,
   "id": "a3aa83b2",
   "metadata": {},
   "outputs": [
    {
     "data": {
      "text/html": [
       "<div>\n",
       "<style scoped>\n",
       "    .dataframe tbody tr th:only-of-type {\n",
       "        vertical-align: middle;\n",
       "    }\n",
       "\n",
       "    .dataframe tbody tr th {\n",
       "        vertical-align: top;\n",
       "    }\n",
       "\n",
       "    .dataframe thead th {\n",
       "        text-align: right;\n",
       "    }\n",
       "</style>\n",
       "<table border=\"1\" class=\"dataframe\">\n",
       "  <thead>\n",
       "    <tr style=\"text-align: right;\">\n",
       "      <th></th>\n",
       "      <th>text</th>\n",
       "      <th>gender</th>\n",
       "      <th>age</th>\n",
       "    </tr>\n",
       "  </thead>\n",
       "  <tbody>\n",
       "    <tr>\n",
       "      <th>0</th>\n",
       "      <td>75YOF WITH LAC TO FINGER FROM METAL CAN</td>\n",
       "      <td>female</td>\n",
       "      <td>75.0</td>\n",
       "    </tr>\n",
       "    <tr>\n",
       "      <th>1</th>\n",
       "      <td>8YOF FRACTURED FINGER FELL OFF HER BIKE</td>\n",
       "      <td>female</td>\n",
       "      <td>8.0</td>\n",
       "    </tr>\n",
       "    <tr>\n",
       "      <th>2</th>\n",
       "      <td>9 YOM TACKLED DURING FOOTBALL PRACTICE.  DX: C...</td>\n",
       "      <td>male</td>\n",
       "      <td>9.0</td>\n",
       "    </tr>\n",
       "    <tr>\n",
       "      <th>3</th>\n",
       "      <td>DX NASAL INJ: 9YOM C/O FELL OFF SWING @ SCHOOL...</td>\n",
       "      <td>male</td>\n",
       "      <td>9.0</td>\n",
       "    </tr>\n",
       "    <tr>\n",
       "      <th>4</th>\n",
       "      <td>12YOF FELL DOWN STAIRS DX: FX RADIUS</td>\n",
       "      <td>female</td>\n",
       "      <td>12.0</td>\n",
       "    </tr>\n",
       "    <tr>\n",
       "      <th>...</th>\n",
       "      <td>...</td>\n",
       "      <td>...</td>\n",
       "      <td>...</td>\n",
       "    </tr>\n",
       "    <tr>\n",
       "      <th>7906</th>\n",
       "      <td>18 MOF FELL HITTING FACE ON CONCRETE STEP SUST...</td>\n",
       "      <td>female</td>\n",
       "      <td>1.0</td>\n",
       "    </tr>\n",
       "    <tr>\n",
       "      <th>7907</th>\n",
       "      <td>18MOM BEING CARRIED BY GRRANDFATHER WHO FELL D...</td>\n",
       "      <td>male</td>\n",
       "      <td>1.0</td>\n",
       "    </tr>\n",
       "    <tr>\n",
       "      <th>7908</th>\n",
       "      <td>1MOF DAD FELL ASLEEP HOLDING PT ON HIS CHEST I...</td>\n",
       "      <td>female</td>\n",
       "      <td>0.0</td>\n",
       "    </tr>\n",
       "    <tr>\n",
       "      <th>7909</th>\n",
       "      <td>DX: 19 MO F AT HOME SWALLOWED 1OZ OF ***ROLL O...</td>\n",
       "      <td>female</td>\n",
       "      <td>1.0</td>\n",
       "    </tr>\n",
       "    <tr>\n",
       "      <th>7910</th>\n",
       "      <td>16 MO MALE FELL AND HIT HEAD ON A TRAIN TABLE....</td>\n",
       "      <td>male</td>\n",
       "      <td>1.0</td>\n",
       "    </tr>\n",
       "  </tbody>\n",
       "</table>\n",
       "<p>7911 rows × 3 columns</p>\n",
       "</div>"
      ],
      "text/plain": [
       "                                                   text  gender   age\n",
       "0              75YOF WITH LAC TO FINGER FROM METAL CAN   female  75.0\n",
       "1              8YOF FRACTURED FINGER FELL OFF HER BIKE   female   8.0\n",
       "2     9 YOM TACKLED DURING FOOTBALL PRACTICE.  DX: C...    male   9.0\n",
       "3     DX NASAL INJ: 9YOM C/O FELL OFF SWING @ SCHOOL...    male   9.0\n",
       "4                  12YOF FELL DOWN STAIRS DX: FX RADIUS  female  12.0\n",
       "...                                                 ...     ...   ...\n",
       "7906  18 MOF FELL HITTING FACE ON CONCRETE STEP SUST...  female   1.0\n",
       "7907  18MOM BEING CARRIED BY GRRANDFATHER WHO FELL D...    male   1.0\n",
       "7908  1MOF DAD FELL ASLEEP HOLDING PT ON HIS CHEST I...  female   0.0\n",
       "7909  DX: 19 MO F AT HOME SWALLOWED 1OZ OF ***ROLL O...  female   1.0\n",
       "7910  16 MO MALE FELL AND HIT HEAD ON A TRAIN TABLE....    male   1.0\n",
       "\n",
       "[7911 rows x 3 columns]"
      ]
     },
     "execution_count": 353,
     "metadata": {},
     "output_type": "execute_result"
    }
   ],
   "source": [
    "df_2"
   ]
  },
  {
   "cell_type": "code",
   "execution_count": 354,
   "id": "0ab49b2c",
   "metadata": {},
   "outputs": [
    {
     "data": {
      "text/plain": [
       "Text(0, 0.5, 'number of injuries')"
      ]
     },
     "execution_count": 354,
     "metadata": {},
     "output_type": "execute_result"
    },
    {
     "data": {
      "image/png": "[encoded data removed]",
      "text/plain": [
       "<Figure size 432x288 with 1 Axes>"
      ]
     },
     "metadata": {
      "needs_background": "light"
     },
     "output_type": "display_data"
    }
   ],
   "source": [
    "import numpy as np\n",
    "import matplotlib.pyplot as plt\n",
    "df_2[\"age\"].hist()\n",
    "plt.xlabel(\"age\")\n",
    "plt.ylabel(\"number of injuries\")"
   ]
  },
  {
   "cell_type": "code",
   "execution_count": 355,
   "id": "61d55260",
   "metadata": {
    "scrolled": true
   },
   "outputs": [
    {
     "data": {
      "text/plain": [
       "Text(0, 0.5, 'number of injuries')"
      ]
     },
     "execution_count": 355,
     "metadata": {},
     "output_type": "execute_result"
    },
    {
     "data": {
      "image/png": "[encoded data removed]",
      "text/plain": [
       "<Figure size 432x288 with 1 Axes>"
      ]
     },
     "metadata": {
      "needs_background": "light"
     },
     "output_type": "display_data"
    }
   ],
   "source": [
    "df_2[\"gender\"].hist()\n",
    "plt.xlabel(\"gender\")\n",
    "plt.ylabel(\"number of injuries\")"
   ]
  },
  {
   "cell_type": "code",
   "execution_count": 356,
   "id": "1ad5eccd",
   "metadata": {},
   "outputs": [],
   "source": [
    "x1=df_2.loc[df_2.gender==\"female\",\"age\"]\n",
    "x2=df_2.loc[df_2.gender==\"male\",\"age\"]\n",
    "kwargs = dict(alpha=0.5,density=True, stacked=True)"
   ]
  },
  {
   "cell_type": "code",
   "execution_count": 357,
   "id": "bd517922",
   "metadata": {},
   "outputs": [
    {
     "data": {
      "text/plain": [
       "<matplotlib.legend.Legend at 0x245873d9a90>"
      ]
     },
     "execution_count": 357,
     "metadata": {},
     "output_type": "execute_result"
    },
    {
     "data": {
      "image/png": "[encoded data removed]",
      "text/plain": [
       "<Figure size 432x288 with 1 Axes>"
      ]
     },
     "metadata": {
      "needs_background": "light"
     },
     "output_type": "display_data"
    }
   ],
   "source": [
    "plt.hist(x1,**kwargs,color=\"r\",label=\"female\")\n",
    "plt.hist(x2,**kwargs,color=\"b\",label=\"male\")\n",
    "plt.xlabel(\"age\")\n",
    "plt.ylabel(\"number of injuries\")\n",
    "plt.legend()"
   ]
  },
  {
   "cell_type": "code",
   "execution_count": 358,
   "id": "e7be55f6",
   "metadata": {},
   "outputs": [
    {
     "name": "stdout",
     "output_type": "stream",
     "text": [
      "The number of men in the injuries data is 4627.\n"
     ]
    }
   ],
   "source": [
    "print(\"The number of men in the injuries data is {}.\".format(len(df_2[df_2[\"gender\"]==\"male\"])))"
   ]
  },
  {
   "cell_type": "code",
   "execution_count": 359,
   "id": "49aa862f",
   "metadata": {},
   "outputs": [
    {
     "name": "stdout",
     "output_type": "stream",
     "text": [
      "The number of women in the injuries data is 3284\n"
     ]
    }
   ],
   "source": [
    "print(\"The number of women in the injuries data is {}\".format(len(df_2[df_2[\"gender\"]==\"female\"])))"
   ]
  },
  {
   "cell_type": "code",
   "execution_count": null,
   "id": "57b4dba8",
   "metadata": {},
   "outputs": [],
   "source": []
  }
 ],
 "metadata": {
  "kernelspec": {
   "display_name": "Python 3",
   "language": "python",
   "name": "python3"
  },
  "language_info": {
   "codemirror_mode": {
    "name": "ipython",
    "version": 3
   },
   "file_extension": ".py",
   "mimetype": "text/x-python",
   "name": "python",
   "nbconvert_exporter": "python",
   "pygments_lexer": "ipython3",
   "version": "3.8.8"
  }
 },
 "nbformat": 4,
 "nbformat_minor": 5
}
