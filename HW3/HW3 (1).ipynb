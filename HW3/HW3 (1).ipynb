{
 "cells": [
  {
   "cell_type": "markdown",
   "id": "73fae843",
   "metadata": {},
   "source": [
    "## HW 3: Writing Functions\n",
    "## Hongbo Liu "
   ]
  },
  {
   "cell_type": "markdown",
   "id": "945a4e09",
   "metadata": {},
   "source": [
    "1. Cost of translation"
   ]
  },
  {
   "cell_type": "markdown",
   "id": "718f93e4",
   "metadata": {},
   "source": [
    "a) Provide a python function called cost_of_translation that takes as parameters:"
   ]
  },
  {
   "cell_type": "code",
   "execution_count": 1,
   "id": "fdbb2b0f",
   "metadata": {},
   "outputs": [],
   "source": [
    "def cost_of_translation(num_of_words,type=\"standard\",rush=\"False\"):\n",
    "    if type == \"standard\":\n",
    "        if rush == \"False\":\n",
    "            return num_of_words * 0.05\n",
    "        if rush == \"True\":\n",
    "            return num_of_wrods * 0.05 * 1.5\n",
    "    if type == \"certified\":\n",
    "        if rush == \"False\":\n",
    "            return num_of_words * 0.1\n",
    "        if rush == \"True\":\n",
    "            return num_of_wrods * 0.1 * 1.5 \n",
    "    if type == \"notarized\":\n",
    "        if rush == \"False\":\n",
    "            return num_of_words * 0.12 \n",
    "        if rush == \"True\":\n",
    "            return num_of_words * 0.12 * 1.5"
   ]
  },
  {
   "cell_type": "code",
   "execution_count": 2,
   "id": "dfa64f88",
   "metadata": {},
   "outputs": [
    {
     "data": {
      "text/plain": [
       "50.0"
      ]
     },
     "execution_count": 2,
     "metadata": {},
     "output_type": "execute_result"
    }
   ],
   "source": [
    "cost_of_translation(1000)"
   ]
  },
  {
   "cell_type": "markdown",
   "id": "beb927eb",
   "metadata": {},
   "source": [
    "b) We now want to provide information on the applicable sales tax as well. Write a separate function called sales_tax which takes in the cost of translation and returns the total amount of sales tax. Make sure this function has a tax_rate parameter and set the default to 10 percent. Show the function output for a standard document of 1000 words and not needed urgently.\n",
    "\n"
   ]
  },
  {
   "cell_type": "code",
   "execution_count": 3,
   "id": "bd486dcc",
   "metadata": {},
   "outputs": [],
   "source": [
    "def sales_tax(cost, tax_rate=0.1):\n",
    "    return cost * tax_rate "
   ]
  },
  {
   "cell_type": "code",
   "execution_count": 4,
   "id": "2afa9f0a",
   "metadata": {},
   "outputs": [
    {
     "data": {
      "text/plain": [
       "5.0"
      ]
     },
     "execution_count": 4,
     "metadata": {},
     "output_type": "execute_result"
    }
   ],
   "source": [
    "sales_tax(cost_of_translation(1000))"
   ]
  },
  {
   "cell_type": "markdown",
   "id": "725aba19",
   "metadata": {},
   "source": [
    "c) Due to a quirk in the tax law, notarized translations are exempt from sales tax. Modify the sales_tax function to reflect this (call it sales_tax_notary now). Show the function output for a document of 1000 words that is notarized and not needed urgently."
   ]
  },
  {
   "cell_type": "code",
   "execution_count": 5,
   "id": "e681ff15",
   "metadata": {},
   "outputs": [],
   "source": [
    "def sales_tax(cost, tax_rate=0.1,type=\"standard\"):\n",
    "    if type==\"notarized\":\n",
    "        return 0\n",
    "    else:\n",
    "        return cost * tax_rate "
   ]
  },
  {
   "cell_type": "code",
   "execution_count": 6,
   "id": "86e84e4a",
   "metadata": {},
   "outputs": [
    {
     "data": {
      "text/plain": [
       "0"
      ]
     },
     "execution_count": 6,
     "metadata": {},
     "output_type": "execute_result"
    }
   ],
   "source": [
    "sales_tax(cost_of_translation(1000,\"notarized\"),type=\"notarized\")"
   ]
  },
  {
   "cell_type": "markdown",
   "id": "264c0352",
   "metadata": {},
   "source": [
    "d) Now combine the functions cost_of_translation and sales_tax_notary into a third function called translation_calculator. The function translation_calculator only has one required input, num_of_words, but also allows for an optional set of additional keyword arguments that can be passed to the relevant two sub-functions."
   ]
  },
  {
   "cell_type": "code",
   "execution_count": 62,
   "id": "3f3a6641",
   "metadata": {},
   "outputs": [],
   "source": [
    "def translation_calculator(num_of_words,type=\"standard\",rush=\"False\",tax_rate=0.1):\n",
    "    a=num_of_words\n",
    "    b=type\n",
    "    c=rush\n",
    "    d=tax_rate\n",
    "    if type == \"standard\":\n",
    "        r= 0.05\n",
    "    if type == \"certified\":\n",
    "        r= 0.1\n",
    "    if type == \"notarized\":\n",
    "        r= 0.12\n",
    "    def cost_of_translation(num_of_words,type=\"standard\",rush=\"False\"):\n",
    "        if type == \"standard\":\n",
    "            if rush == \"False\":\n",
    "                return num_of_words * 0.05\n",
    "            if rush == \"True\":\n",
    "                return num_of_words * 0.05 * 1.5\n",
    "        if type == \"certified\":\n",
    "            if rush == \"False\":\n",
    "                return num_of_words * 0.1\n",
    "            if rush == \"True\":\n",
    "                return num_of_words * 0.1 * 1.5 \n",
    "        if type == \"notarized\":\n",
    "            if rush == \"False\":\n",
    "                return num_of_words * 0.12 \n",
    "            if rush == \"True\":\n",
    "                return num_of_words * 0.12 * 1.5\n",
    "    def sales_tax(cost, tax_rate=0.1,type=\"standard\"):\n",
    "        if type==\"notarized\":\n",
    "            return 0\n",
    "        else:\n",
    "            return cost * tax_rate \n",
    "    cost=cost_of_translation(a,b,c)\n",
    "    tax=sales_tax(cost_of_translation(a,b,c),d,b)\n",
    "    print(f\"Number of Words: {a}\")\n",
    "    print(f\"Type of translation:{b}\")\n",
    "    print(f\"Rush order:{c}\")\n",
    "    print(f\"Rate per word:{r}\")\n",
    "    print(\"---------------------------\")\n",
    "    print(f\"Cost of translation:{cost}\")\n",
    "    print(f\"Sales tax:{tax}\")\n",
    "    print(\"---------------------------\")\n",
    "    print(f\"Total cost: {cost+tax}\")"
   ]
  },
  {
   "cell_type": "code",
   "execution_count": 65,
   "id": "9465dfa2",
   "metadata": {},
   "outputs": [
    {
     "name": "stdout",
     "output_type": "stream",
     "text": [
      "Number of Words: 1000\n",
      "Type of translation:notarized\n",
      "Rush order:True\n",
      "Rate per word:0.12\n",
      "---------------------------\n",
      "Cost of translation:180.0\n",
      "Sales tax:0\n",
      "---------------------------\n",
      "Total cost: 180.0\n"
     ]
    }
   ],
   "source": [
    "translation_calculator(1000,type=\"notarized\",rush=\"True\")"
   ]
  },
  {
   "cell_type": "markdown",
   "id": "6df7d525",
   "metadata": {},
   "source": [
    " 2. Error handling"
   ]
  },
  {
   "cell_type": "markdown",
   "id": "7f6e2bf4",
   "metadata": {},
   "source": [
    "a) Your friend was happy about your work but recently noticed some issues. She asks you to make sure that the translation_calculator function only accepts:\n",
    "a positive number of words\n",
    "the types of translations you planned for in your function\n",
    "Add assertions (in any place you find appropriate) that warn a user when either of these requirements are not fulfilled. Make sure the user knows what went wrong by providing a description of what input is incorrect.\n",
    "\n",
    "Show the result of the function for a translation with num_of_words = 0. Show the result of the function for a translation of type live."
   ]
  },
  {
   "cell_type": "code",
   "execution_count": 9,
   "id": "d3dfdd9e",
   "metadata": {},
   "outputs": [],
   "source": [
    "def translation_calculator_1(num_of_words,type=\"standard\",rush=\"False\",tax_rate=0.1):\n",
    "    a=num_of_words\n",
    "    b=type\n",
    "    c=rush\n",
    "    d=tax_rate\n",
    "    assert a>0, \"This function only accepts a positive number of words\"\n",
    "    assert (b==\"standard\")|(b==\"certified\")|(b==\"notarized\"),\"This function only accepts the types of translations you planned for in your function\"\n",
    "    if type == \"standard\":\n",
    "        r= 0.05\n",
    "    if type == \"certified\":\n",
    "        r= 0.1\n",
    "    if type == \"notarized\":\n",
    "        r= 0.12\n",
    "    def cost_of_translation(num_of_words,type=\"standard\",rush=\"False\"):\n",
    "        if type == \"standard\":\n",
    "            if rush == \"False\":\n",
    "                return num_of_words * 0.05\n",
    "            if rush == \"True\":\n",
    "                return num_of_wrods * 0.05 * 1.5\n",
    "        if type == \"certified\":\n",
    "            if rush == \"False\":\n",
    "                return num_of_words * 0.1\n",
    "            if rush == \"True\":\n",
    "                return num_of_wrods * 0.1 * 1.5 \n",
    "        if type == \"notarized\":\n",
    "            if rush == \"False\":\n",
    "                return num_of_words * 0.12 \n",
    "            if rush == \"True\":\n",
    "                return num_of_words * 0.12 * 1.5\n",
    "    def sales_tax(cost, tax_rate=0.1,type=\"standard\"):\n",
    "        if type==\"notarized\":\n",
    "            return 0\n",
    "        else:\n",
    "            return cost * tax_rate \n",
    "    cost=cost_of_translation(a,b,c)\n",
    "    tax=sales_tax(cost_of_translation(a,b,c),d,b)\n",
    "    print(f\"Number of Words: {a}\")\n",
    "    print(f\"Type of translation:{b}\")\n",
    "    print(f\"Rush order:{c}\")\n",
    "    print(f\"Rate per word:{r}\")\n",
    "    print(\"---------------------------\")\n",
    "    print(f\"Cost of translation:{cost}\")\n",
    "    print(f\"Sales tax:{tax}\")\n",
    "    print(\"---------------------------\")\n",
    "    print(f\"Total cost: {cost-tax}\")"
   ]
  },
  {
   "cell_type": "code",
   "execution_count": 10,
   "id": "bc103069",
   "metadata": {},
   "outputs": [
    {
     "ename": "AssertionError",
     "evalue": "This function only accepts a positive number of words",
     "output_type": "error",
     "traceback": [
      "\u001b[1;31m---------------------------------------------------------------------------\u001b[0m",
      "\u001b[1;31mAssertionError\u001b[0m                            Traceback (most recent call last)",
      "\u001b[1;32m<ipython-input-10-7178f9666151>\u001b[0m in \u001b[0;36m<module>\u001b[1;34m\u001b[0m\n\u001b[1;32m----> 1\u001b[1;33m \u001b[0mtranslation_calculator_1\u001b[0m\u001b[1;33m(\u001b[0m\u001b[1;36m0\u001b[0m\u001b[1;33m)\u001b[0m\u001b[1;33m\u001b[0m\u001b[1;33m\u001b[0m\u001b[0m\n\u001b[0m",
      "\u001b[1;32m<ipython-input-9-c7d056a50adb>\u001b[0m in \u001b[0;36mtranslation_calculator_1\u001b[1;34m(num_of_words, type, rush, tax_rate)\u001b[0m\n\u001b[0;32m      4\u001b[0m     \u001b[0mc\u001b[0m\u001b[1;33m=\u001b[0m\u001b[0mrush\u001b[0m\u001b[1;33m\u001b[0m\u001b[1;33m\u001b[0m\u001b[0m\n\u001b[0;32m      5\u001b[0m     \u001b[0md\u001b[0m\u001b[1;33m=\u001b[0m\u001b[0mtax_rate\u001b[0m\u001b[1;33m\u001b[0m\u001b[1;33m\u001b[0m\u001b[0m\n\u001b[1;32m----> 6\u001b[1;33m     \u001b[1;32massert\u001b[0m \u001b[0ma\u001b[0m\u001b[1;33m>\u001b[0m\u001b[1;36m0\u001b[0m\u001b[1;33m,\u001b[0m \u001b[1;34m\"This function only accepts a positive number of words\"\u001b[0m\u001b[1;33m\u001b[0m\u001b[1;33m\u001b[0m\u001b[0m\n\u001b[0m\u001b[0;32m      7\u001b[0m     \u001b[1;32massert\u001b[0m \u001b[1;33m(\u001b[0m\u001b[0mb\u001b[0m\u001b[1;33m==\u001b[0m\u001b[1;34m\"standard\"\u001b[0m\u001b[1;33m)\u001b[0m\u001b[1;33m|\u001b[0m\u001b[1;33m(\u001b[0m\u001b[0mb\u001b[0m\u001b[1;33m==\u001b[0m\u001b[1;34m\"certified\"\u001b[0m\u001b[1;33m)\u001b[0m\u001b[1;33m|\u001b[0m\u001b[1;33m(\u001b[0m\u001b[0mb\u001b[0m\u001b[1;33m==\u001b[0m\u001b[1;34m\"notarized\"\u001b[0m\u001b[1;33m)\u001b[0m\u001b[1;33m,\u001b[0m\u001b[1;34m\"This function only accepts the types of translations you planned for in your function\"\u001b[0m\u001b[1;33m\u001b[0m\u001b[1;33m\u001b[0m\u001b[0m\n\u001b[0;32m      8\u001b[0m     \u001b[1;32mif\u001b[0m \u001b[0mtype\u001b[0m \u001b[1;33m==\u001b[0m \u001b[1;34m\"standard\"\u001b[0m\u001b[1;33m:\u001b[0m\u001b[1;33m\u001b[0m\u001b[1;33m\u001b[0m\u001b[0m\n",
      "\u001b[1;31mAssertionError\u001b[0m: This function only accepts a positive number of words"
     ]
    }
   ],
   "source": [
    "translation_calculator_1(0)"
   ]
  },
  {
   "cell_type": "code",
   "execution_count": 12,
   "id": "0f079b0e",
   "metadata": {
    "scrolled": true
   },
   "outputs": [
    {
     "ename": "AssertionError",
     "evalue": "This function only accepts the types of translations you planned for in your function",
     "output_type": "error",
     "traceback": [
      "\u001b[1;31m---------------------------------------------------------------------------\u001b[0m",
      "\u001b[1;31mAssertionError\u001b[0m                            Traceback (most recent call last)",
      "\u001b[1;32m<ipython-input-12-5cb6fd7d8807>\u001b[0m in \u001b[0;36m<module>\u001b[1;34m\u001b[0m\n\u001b[1;32m----> 1\u001b[1;33m \u001b[0mtranslation_calculator_1\u001b[0m\u001b[1;33m(\u001b[0m\u001b[1;36m1\u001b[0m\u001b[1;33m,\u001b[0m\u001b[0mtype\u001b[0m\u001b[1;33m=\u001b[0m\u001b[1;34m\"live\"\u001b[0m\u001b[1;33m)\u001b[0m\u001b[1;33m\u001b[0m\u001b[1;33m\u001b[0m\u001b[0m\n\u001b[0m",
      "\u001b[1;32m<ipython-input-9-c7d056a50adb>\u001b[0m in \u001b[0;36mtranslation_calculator_1\u001b[1;34m(num_of_words, type, rush, tax_rate)\u001b[0m\n\u001b[0;32m      5\u001b[0m     \u001b[0md\u001b[0m\u001b[1;33m=\u001b[0m\u001b[0mtax_rate\u001b[0m\u001b[1;33m\u001b[0m\u001b[1;33m\u001b[0m\u001b[0m\n\u001b[0;32m      6\u001b[0m     \u001b[1;32massert\u001b[0m \u001b[0ma\u001b[0m\u001b[1;33m>\u001b[0m\u001b[1;36m0\u001b[0m\u001b[1;33m,\u001b[0m \u001b[1;34m\"This function only accepts a positive number of words\"\u001b[0m\u001b[1;33m\u001b[0m\u001b[1;33m\u001b[0m\u001b[0m\n\u001b[1;32m----> 7\u001b[1;33m     \u001b[1;32massert\u001b[0m \u001b[1;33m(\u001b[0m\u001b[0mb\u001b[0m\u001b[1;33m==\u001b[0m\u001b[1;34m\"standard\"\u001b[0m\u001b[1;33m)\u001b[0m\u001b[1;33m|\u001b[0m\u001b[1;33m(\u001b[0m\u001b[0mb\u001b[0m\u001b[1;33m==\u001b[0m\u001b[1;34m\"certified\"\u001b[0m\u001b[1;33m)\u001b[0m\u001b[1;33m|\u001b[0m\u001b[1;33m(\u001b[0m\u001b[0mb\u001b[0m\u001b[1;33m==\u001b[0m\u001b[1;34m\"notarized\"\u001b[0m\u001b[1;33m)\u001b[0m\u001b[1;33m,\u001b[0m\u001b[1;34m\"This function only accepts the types of translations you planned for in your function\"\u001b[0m\u001b[1;33m\u001b[0m\u001b[1;33m\u001b[0m\u001b[0m\n\u001b[0m\u001b[0;32m      8\u001b[0m     \u001b[1;32mif\u001b[0m \u001b[0mtype\u001b[0m \u001b[1;33m==\u001b[0m \u001b[1;34m\"standard\"\u001b[0m\u001b[1;33m:\u001b[0m\u001b[1;33m\u001b[0m\u001b[1;33m\u001b[0m\u001b[0m\n\u001b[0;32m      9\u001b[0m         \u001b[0mr\u001b[0m\u001b[1;33m=\u001b[0m \u001b[1;36m0.05\u001b[0m\u001b[1;33m\u001b[0m\u001b[1;33m\u001b[0m\u001b[0m\n",
      "\u001b[1;31mAssertionError\u001b[0m: This function only accepts the types of translations you planned for in your function"
     ]
    }
   ],
   "source": [
    "translation_calculator_1(1,type=\"live\")"
   ]
  },
  {
   "cell_type": "markdown",
   "id": "c8f68a60",
   "metadata": {},
   "source": [
    "b) Your friend does like that no erroneous values come through anymore but her customers don't really understand your Python generated warnings. Remove the assertions from (2a) and use a try-except setup to catch all errors that arise and simply ask the user (via a printed message) to Please check your input values.\n",
    "\n",
    "Print the result of the function for a translation with a negative number of words as the input."
   ]
  },
  {
   "cell_type": "code",
   "execution_count": 50,
   "id": "94c18f57",
   "metadata": {},
   "outputs": [],
   "source": [
    "def translation_calculator_1(num_of_words,type=\"standard\",rush=\"False\",tax_rate=0.1):\n",
    "    a=num_of_words\n",
    "    b=type\n",
    "    c=rush\n",
    "    d=tax_rate\n",
    "    if type == \"standard\":\n",
    "        r= 0.05\n",
    "    if type == \"certified\":\n",
    "        r= 0.1\n",
    "    if type == \"notarized\":\n",
    "        r= 0.12\n",
    "    def cost_of_translation(num_of_words,type=\"standard\",rush=\"False\"):\n",
    "        if type == \"standard\":\n",
    "            if rush == \"False\":\n",
    "                return num_of_words * 0.05\n",
    "            if rush == \"True\":\n",
    "                return num_of_wrods * 0.05 * 1.5\n",
    "        if type == \"certified\":\n",
    "            if rush == \"False\":\n",
    "                return num_of_words * 0.1\n",
    "            if rush == \"True\":\n",
    "                return num_of_wrods * 0.1 * 1.5 \n",
    "        if type == \"notarized\":\n",
    "            if rush == \"False\":\n",
    "                return num_of_words * 0.12 \n",
    "            if rush == \"True\":\n",
    "                return num_of_words * 0.12 * 1.5\n",
    "    def sales_tax(cost, tax_rate=0.1,type=\"standard\"):\n",
    "        if type==\"notarized\":\n",
    "            return 0\n",
    "        else:\n",
    "            return cost * tax_rate \n",
    "        \n",
    "    try: \n",
    "        if a<=0:\n",
    "            raise ValueError(\"Wordnumerror\")\n",
    "        if (b!=\"standard\")&(b!=\"certified\")&(b!=\"notarized\"):\n",
    "            raise ValueError(\"Typeerror\") \n",
    "    except ValueError as error:\n",
    "        return  print(\"Please check your input values\")\n",
    "\n",
    "    cost=cost_of_translation(a,b,c)\n",
    "    tax=sales_tax(cost_of_translation(a,b,c),d,b)\n",
    "\n",
    "\n",
    "    print(f\"Number of Words: {a}\")\n",
    "    print(f\"Type of translation:{b}\")\n",
    "    print(f\"Rush order:{c}\")\n",
    "    print(f\"Rate per word:{r}\")\n",
    "    print(\"---------------------------\")\n",
    "    print(f\"Cost of translation:{cost}\")\n",
    "    print(f\"Sales tax:{tax}\")\n",
    "    print(\"---------------------------\")\n",
    "    print(f\"Total cost: {cost-tax}\")"
   ]
  },
  {
   "cell_type": "code",
   "execution_count": 58,
   "id": "7e1d4d58",
   "metadata": {},
   "outputs": [
    {
     "name": "stdout",
     "output_type": "stream",
     "text": [
      "Please check your input values\n"
     ]
    }
   ],
   "source": [
    "translation_calculator_1(-7)"
   ]
  },
  {
   "cell_type": "code",
   "execution_count": null,
   "id": "5d947491",
   "metadata": {},
   "outputs": [],
   "source": []
  }
 ],
 "metadata": {
  "kernelspec": {
   "display_name": "Python 3",
   "language": "python",
   "name": "python3"
  },
  "language_info": {
   "codemirror_mode": {
    "name": "ipython",
    "version": 3
   },
   "file_extension": ".py",
   "mimetype": "text/x-python",
   "name": "python",
   "nbconvert_exporter": "python",
   "pygments_lexer": "ipython3",
   "version": "3.8.8"
  }
 },
 "nbformat": 4,
 "nbformat_minor": 5
}
