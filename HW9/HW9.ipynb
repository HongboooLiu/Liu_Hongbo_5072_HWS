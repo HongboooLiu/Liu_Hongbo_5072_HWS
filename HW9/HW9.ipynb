{
 "cells": [
  {
   "cell_type": "markdown",
   "id": "c2aacc9e",
   "metadata": {},
   "source": [
    "## HW 9\n",
    "## Hongbo Liu"
   ]
  },
  {
   "cell_type": "markdown",
   "id": "096bfd6f",
   "metadata": {},
   "source": [
    "1. Get HTML\n",
    "Get the content of the page into R.\n",
    "\n",
    "2. Get the info box\n",
    "On the right side of the page is a box of structured content, called an info box. Wikipedia has many types of such info boxes to provide content comparably for a group of articles of the same class (e.g. the Members of the U.S. senate, Fortune 500 companies, Crime Syndicates etc.)"
   ]
  },
  {
   "cell_type": "markdown",
   "id": "60f0c29b",
   "metadata": {},
   "source": [
    "a) Find the CSS class of the infobox."
   ]
  },
  {
   "cell_type": "markdown",
   "id": "57342bb1",
   "metadata": {},
   "source": [
    "Through copying the \"selector\" from the https://en.wikipedia.org/wiki/Mitch_McConnell, I know the CSS class of the infobox is \"infobox.vcard\""
   ]
  },
  {
   "cell_type": "markdown",
   "id": "196cd7e1",
   "metadata": {},
   "source": [
    "b) Extract the part of the HTML document that contains the infobox using the CSS information."
   ]
  },
  {
   "cell_type": "code",
   "execution_count": 1,
   "id": "df451115",
   "metadata": {},
   "outputs": [],
   "source": [
    "import lxml\n",
    "from lxml import html \n",
    "import requests\n"
   ]
  },
  {
   "cell_type": "code",
   "execution_count": 2,
   "id": "11d47ad4",
   "metadata": {},
   "outputs": [
    {
     "name": "stdout",
     "output_type": "stream",
     "text": [
      "b'>Mitch McConnell - Wikipedia</title>\\n<script>document.documentElement.className=\"client-js\";RLCONF={'\n"
     ]
    }
   ],
   "source": [
    "link=\"https://en.wikipedia.org/wiki/Mitch_McConnell\"\n",
    "wiki=requests.get(link)\n",
    "wiki_doc=html.fromstring(wiki.content)\n",
    "print(wiki.content[100:200])"
   ]
  },
  {
   "cell_type": "code",
   "execution_count": 20,
   "id": "1b5fbfaa",
   "metadata": {},
   "outputs": [],
   "source": [
    "from lxml.cssselect import CSSSelector\n"
   ]
  },
  {
   "cell_type": "code",
   "execution_count": 39,
   "id": "ffda3753",
   "metadata": {},
   "outputs": [],
   "source": [
    "Info=wiki_doc.cssselect(\".infobox.vcard> tbody >tr\")"
   ]
  },
  {
   "cell_type": "code",
   "execution_count": 50,
   "id": "8a17e86f",
   "metadata": {},
   "outputs": [
    {
     "data": {
      "text/plain": [
       "'Senate Minority Leader'"
      ]
     },
     "execution_count": 50,
     "metadata": {},
     "output_type": "execute_result"
    }
   ],
   "source": [
    "Info[3][0][0].text"
   ]
  },
  {
   "cell_type": "markdown",
   "id": "107ec3d8",
   "metadata": {},
   "source": [
    "3. Make a data frame"
   ]
  },
  {
   "cell_type": "markdown",
   "id": "c615af95",
   "metadata": {},
   "source": [
    "a) Parse the infobox table HTML you obtained above into a data frame."
   ]
  },
  {
   "cell_type": "markdown",
   "id": "7b06ea00",
   "metadata": {},
   "source": [
    "b) Name the columns of the table you obtain key and value. So, in the example for Mitch McConnell, \"Whip\" would be the key, and the content information (i.e. the value) is \"John Thune\"."
   ]
  },
  {
   "cell_type": "code",
   "execution_count": null,
   "id": "8b35b7c8",
   "metadata": {},
   "outputs": [],
   "source": [
    "#mw-content-text > div.mw-parser-output > table.infobox.vcard > tbody > tr:nth-child(8) > th"
   ]
  },
  {
   "cell_type": "code",
   "execution_count": 113,
   "id": "2089b54e",
   "metadata": {},
   "outputs": [],
   "source": [
    "key=wiki_doc.xpath(\"//*[@id='mw-content-text']/div[1]/table[1]/tbody/tr/th/descendant-or-self::*/text()\")"
   ]
  },
  {
   "cell_type": "code",
   "execution_count": 114,
   "id": "0e2587d7",
   "metadata": {},
   "outputs": [],
   "source": [
    "value=wiki_doc.xpath(\"//*[@id='mw-content-text']/div[1]/table[1]/tbody/tr/td/descendant::*/text()\")"
   ]
  },
  {
   "cell_type": "code",
   "execution_count": 115,
   "id": "48bb54bf",
   "metadata": {},
   "outputs": [],
   "source": [
    "import pandas as pd"
   ]
  },
  {
   "cell_type": "code",
   "execution_count": 116,
   "id": "e5877680",
   "metadata": {},
   "outputs": [],
   "source": [
    "value=value[0:51]\n"
   ]
  },
  {
   "cell_type": "code",
   "execution_count": 117,
   "id": "1abeaf3d",
   "metadata": {},
   "outputs": [],
   "source": [
    "df=pd.DataFrame({\"key\":key,\"value\":value})"
   ]
  },
  {
   "cell_type": "code",
   "execution_count": 119,
   "id": "e563569c",
   "metadata": {},
   "outputs": [
    {
     "data": {
      "text/html": [
       "<div>\n",
       "<style scoped>\n",
       "    .dataframe tbody tr th:only-of-type {\n",
       "        vertical-align: middle;\n",
       "    }\n",
       "\n",
       "    .dataframe tbody tr th {\n",
       "        vertical-align: top;\n",
       "    }\n",
       "\n",
       "    .dataframe thead th {\n",
       "        text-align: right;\n",
       "    }\n",
       "</style>\n",
       "<table border=\"1\" class=\"dataframe\">\n",
       "  <thead>\n",
       "    <tr style=\"text-align: right;\">\n",
       "      <th></th>\n",
       "      <th>key</th>\n",
       "      <th>value</th>\n",
       "    </tr>\n",
       "  </thead>\n",
       "  <tbody>\n",
       "    <tr>\n",
       "      <th>0</th>\n",
       "      <td>Mitch McConnell</td>\n",
       "      <td>Official portrait, 2016</td>\n",
       "    </tr>\n",
       "    <tr>\n",
       "      <th>1</th>\n",
       "      <td>Senate Minority Leader</td>\n",
       "      <td>Incumbent</td>\n",
       "    </tr>\n",
       "    <tr>\n",
       "      <th>2</th>\n",
       "      <td>Whip</td>\n",
       "      <td>Assumed office</td>\n",
       "    </tr>\n",
       "    <tr>\n",
       "      <th>3</th>\n",
       "      <td>Preceded by</td>\n",
       "      <td>John Thune</td>\n",
       "    </tr>\n",
       "    <tr>\n",
       "      <th>4</th>\n",
       "      <td>Whip</td>\n",
       "      <td>Chuck Schumer</td>\n",
       "    </tr>\n",
       "  </tbody>\n",
       "</table>\n",
       "</div>"
      ],
      "text/plain": [
       "                      key                    value\n",
       "0         Mitch McConnell  Official portrait, 2016\n",
       "1  Senate Minority Leader                Incumbent\n",
       "2                    Whip           Assumed office\n",
       "3             Preceded by               John Thune\n",
       "4                    Whip            Chuck Schumer"
      ]
     },
     "execution_count": 119,
     "metadata": {},
     "output_type": "execute_result"
    }
   ],
   "source": [
    "df.head()"
   ]
  },
  {
   "cell_type": "markdown",
   "id": "03d6baac",
   "metadata": {},
   "source": [
    "c) Filter the data frame (and rename variables if necessary) to the \"Full name\", \"Political Party\", and \"Children\". Use this selection of variables for all subsequent questions."
   ]
  },
  {
   "cell_type": "code",
   "execution_count": 170,
   "id": "3f452017",
   "metadata": {},
   "outputs": [],
   "source": [
    "pp=wiki_doc.xpath(\"//tbody/tr/*[contains(text(),'Political party')]/parent::tr/td/a/text()\")"
   ]
  },
  {
   "cell_type": "code",
   "execution_count": 171,
   "id": "36c6ef83",
   "metadata": {},
   "outputs": [],
   "source": [
    "c=wiki_doc.xpath(\"//tbody/tr/*[contains(text(),'Children')]/parent::tr/td/text()\")"
   ]
  },
  {
   "cell_type": "code",
   "execution_count": 172,
   "id": "d6956df0",
   "metadata": {},
   "outputs": [],
   "source": [
    "n=wiki_doc.xpath(\"//tbody/tr/th/descendant-or-self::*/text()\")[0]"
   ]
  },
  {
   "cell_type": "code",
   "execution_count": 178,
   "id": "03ae4784",
   "metadata": {},
   "outputs": [
    {
     "data": {
      "text/html": [
       "<div>\n",
       "<style scoped>\n",
       "    .dataframe tbody tr th:only-of-type {\n",
       "        vertical-align: middle;\n",
       "    }\n",
       "\n",
       "    .dataframe tbody tr th {\n",
       "        vertical-align: top;\n",
       "    }\n",
       "\n",
       "    .dataframe thead th {\n",
       "        text-align: right;\n",
       "    }\n",
       "</style>\n",
       "<table border=\"1\" class=\"dataframe\">\n",
       "  <thead>\n",
       "    <tr style=\"text-align: right;\">\n",
       "      <th></th>\n",
       "      <th>key</th>\n",
       "      <th>value</th>\n",
       "    </tr>\n",
       "  </thead>\n",
       "  <tbody>\n",
       "    <tr>\n",
       "      <th>0</th>\n",
       "      <td>Political party</td>\n",
       "      <td>[Republican]</td>\n",
       "    </tr>\n",
       "    <tr>\n",
       "      <th>1</th>\n",
       "      <td>Children</td>\n",
       "      <td>[3]</td>\n",
       "    </tr>\n",
       "    <tr>\n",
       "      <th>2</th>\n",
       "      <td>Full name</td>\n",
       "      <td>Mitch McConnell</td>\n",
       "    </tr>\n",
       "  </tbody>\n",
       "</table>\n",
       "</div>"
      ],
      "text/plain": [
       "               key            value\n",
       "0  Political party     [Republican]\n",
       "1         Children              [3]\n",
       "2        Full name  Mitch McConnell"
      ]
     },
     "execution_count": 178,
     "metadata": {},
     "output_type": "execute_result"
    }
   ],
   "source": [
    "data=[[\"Political party\",pp],[\"Children\",c],[\"Full name\",n]]\n",
    "df = pd.DataFrame(data, columns=['key', 'value'])\n",
    "df"
   ]
  },
  {
   "cell_type": "markdown",
   "id": "b38c4ba8",
   "metadata": {},
   "source": [
    "4. Make a function"
   ]
  },
  {
   "cell_type": "markdown",
   "id": "f81c8c6e",
   "metadata": {},
   "source": [
    "a) Use the code above to make a function called get_wiki_info that uses a single input url (a Wikipedia URL) and outputs the data frame of the format above. There is no need to account for exceptions (e.g. no info box on the page; page does not exist etc.) - we will only use members of the U.S. Senate for this exercise."
   ]
  },
  {
   "cell_type": "code",
   "execution_count": 186,
   "id": "91c4fbf4",
   "metadata": {},
   "outputs": [],
   "source": [
    "def get_wiki_info(url):\n",
    "    wiki=requests.get(url)\n",
    "    wiki_doc=html.fromstring(wiki.content)\n",
    "    pp=wiki_doc.xpath(\"//tbody/tr/*[contains(text(),'Political party')]/parent::tr/td/a/text()\")\n",
    "    c=wiki_doc.xpath(\"//tbody/tr/*[contains(text(),'Children')]/parent::tr/td/text()\")\n",
    "    n=wiki_doc.xpath(\"//tbody/tr/th/descendant-or-self::*/text()\")[0]\n",
    "    if not c:\n",
    "        c=\"NA\"\n",
    "    data=[[\"Political party\",pp],[\"Children\",c],[\"Full name\",n]]\n",
    "    df = pd.DataFrame(data, columns=['key', 'value'])\n",
    "    \n",
    "    return df"
   ]
  },
  {
   "cell_type": "code",
   "execution_count": 187,
   "id": "9e8636ac",
   "metadata": {},
   "outputs": [
    {
     "data": {
      "text/html": [
       "<div>\n",
       "<style scoped>\n",
       "    .dataframe tbody tr th:only-of-type {\n",
       "        vertical-align: middle;\n",
       "    }\n",
       "\n",
       "    .dataframe tbody tr th {\n",
       "        vertical-align: top;\n",
       "    }\n",
       "\n",
       "    .dataframe thead th {\n",
       "        text-align: right;\n",
       "    }\n",
       "</style>\n",
       "<table border=\"1\" class=\"dataframe\">\n",
       "  <thead>\n",
       "    <tr style=\"text-align: right;\">\n",
       "      <th></th>\n",
       "      <th>key</th>\n",
       "      <th>value</th>\n",
       "    </tr>\n",
       "  </thead>\n",
       "  <tbody>\n",
       "    <tr>\n",
       "      <th>0</th>\n",
       "      <td>Political party</td>\n",
       "      <td>[Republican]</td>\n",
       "    </tr>\n",
       "    <tr>\n",
       "      <th>1</th>\n",
       "      <td>Children</td>\n",
       "      <td>[3]</td>\n",
       "    </tr>\n",
       "    <tr>\n",
       "      <th>2</th>\n",
       "      <td>Full name</td>\n",
       "      <td>Mitch McConnell</td>\n",
       "    </tr>\n",
       "  </tbody>\n",
       "</table>\n",
       "</div>"
      ],
      "text/plain": [
       "               key            value\n",
       "0  Political party     [Republican]\n",
       "1         Children              [3]\n",
       "2        Full name  Mitch McConnell"
      ]
     },
     "execution_count": 187,
     "metadata": {},
     "output_type": "execute_result"
    }
   ],
   "source": [
    "get_wiki_info(url=\"https://en.wikipedia.org/wiki/Mitch_McConnell\")"
   ]
  },
  {
   "cell_type": "markdown",
   "id": "bd069635",
   "metadata": {},
   "source": [
    "b) Show how your function works on the following two URLs:"
   ]
  },
  {
   "cell_type": "code",
   "execution_count": 188,
   "id": "87f34bd7",
   "metadata": {},
   "outputs": [
    {
     "data": {
      "text/html": [
       "<div>\n",
       "<style scoped>\n",
       "    .dataframe tbody tr th:only-of-type {\n",
       "        vertical-align: middle;\n",
       "    }\n",
       "\n",
       "    .dataframe tbody tr th {\n",
       "        vertical-align: top;\n",
       "    }\n",
       "\n",
       "    .dataframe thead th {\n",
       "        text-align: right;\n",
       "    }\n",
       "</style>\n",
       "<table border=\"1\" class=\"dataframe\">\n",
       "  <thead>\n",
       "    <tr style=\"text-align: right;\">\n",
       "      <th></th>\n",
       "      <th>key</th>\n",
       "      <th>value</th>\n",
       "    </tr>\n",
       "  </thead>\n",
       "  <tbody>\n",
       "    <tr>\n",
       "      <th>0</th>\n",
       "      <td>Political party</td>\n",
       "      <td>[Democratic]</td>\n",
       "    </tr>\n",
       "    <tr>\n",
       "      <th>1</th>\n",
       "      <td>Children</td>\n",
       "      <td>[2]</td>\n",
       "    </tr>\n",
       "    <tr>\n",
       "      <th>2</th>\n",
       "      <td>Full name</td>\n",
       "      <td>Tammy Duckworth</td>\n",
       "    </tr>\n",
       "  </tbody>\n",
       "</table>\n",
       "</div>"
      ],
      "text/plain": [
       "               key            value\n",
       "0  Political party     [Democratic]\n",
       "1         Children              [2]\n",
       "2        Full name  Tammy Duckworth"
      ]
     },
     "execution_count": 188,
     "metadata": {},
     "output_type": "execute_result"
    }
   ],
   "source": [
    "get_wiki_info(\"https://en.wikipedia.org/wiki/Tammy_Duckworth\")"
   ]
  },
  {
   "cell_type": "code",
   "execution_count": 189,
   "id": "c9a961fc",
   "metadata": {},
   "outputs": [
    {
     "data": {
      "text/html": [
       "<div>\n",
       "<style scoped>\n",
       "    .dataframe tbody tr th:only-of-type {\n",
       "        vertical-align: middle;\n",
       "    }\n",
       "\n",
       "    .dataframe tbody tr th {\n",
       "        vertical-align: top;\n",
       "    }\n",
       "\n",
       "    .dataframe thead th {\n",
       "        text-align: right;\n",
       "    }\n",
       "</style>\n",
       "<table border=\"1\" class=\"dataframe\">\n",
       "  <thead>\n",
       "    <tr style=\"text-align: right;\">\n",
       "      <th></th>\n",
       "      <th>key</th>\n",
       "      <th>value</th>\n",
       "    </tr>\n",
       "  </thead>\n",
       "  <tbody>\n",
       "    <tr>\n",
       "      <th>0</th>\n",
       "      <td>Political party</td>\n",
       "      <td>[Republican]</td>\n",
       "    </tr>\n",
       "    <tr>\n",
       "      <th>1</th>\n",
       "      <td>Children</td>\n",
       "      <td>NA</td>\n",
       "    </tr>\n",
       "    <tr>\n",
       "      <th>2</th>\n",
       "      <td>Full name</td>\n",
       "      <td>Susan Collins</td>\n",
       "    </tr>\n",
       "  </tbody>\n",
       "</table>\n",
       "</div>"
      ],
      "text/plain": [
       "               key          value\n",
       "0  Political party   [Republican]\n",
       "1         Children             NA\n",
       "2        Full name  Susan Collins"
      ]
     },
     "execution_count": 189,
     "metadata": {},
     "output_type": "execute_result"
    }
   ],
   "source": [
    "get_wiki_info(\"https://en.wikipedia.org/wiki/Susan_Collins\")"
   ]
  },
  {
   "cell_type": "code",
   "execution_count": null,
   "id": "d570d49c",
   "metadata": {},
   "outputs": [],
   "source": []
  }
 ],
 "metadata": {
  "kernelspec": {
   "display_name": "Python 3 (ipykernel)",
   "language": "python",
   "name": "python3"
  },
  "language_info": {
   "codemirror_mode": {
    "name": "ipython",
    "version": 3
   },
   "file_extension": ".py",
   "mimetype": "text/x-python",
   "name": "python",
   "nbconvert_exporter": "python",
   "pygments_lexer": "ipython3",
   "version": "3.8.8"
  }
 },
 "nbformat": 4,
 "nbformat_minor": 5
}
