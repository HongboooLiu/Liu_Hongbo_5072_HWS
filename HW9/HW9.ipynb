{
 "cells": [
  {
   "cell_type": "markdown",
   "id": "456b7c66",
   "metadata": {},
   "source": [
    "## HW 9\n",
    "## Hongbo Liu"
   ]
  },
  {
   "cell_type": "markdown",
   "id": "a282548a",
   "metadata": {},
   "source": [
    "1. Get HTML\n",
    "Get the content of the page into R.\n",
    "\n",
    "2. Get the info box\n",
    "On the right side of the page is a box of structured content, called an info box. Wikipedia has many types of such info boxes to provide content comparably for a group of articles of the same class (e.g. the Members of the U.S. senate, Fortune 500 companies, Crime Syndicates etc.)"
   ]
  },
  {
   "cell_type": "markdown",
   "id": "81050613",
   "metadata": {},
   "source": [
    "a) Find the CSS class of the infobox."
   ]
  },
  {
   "cell_type": "markdown",
   "id": "156eebaf",
   "metadata": {},
   "source": [
    "Through copying the \"selector\" from the https://en.wikipedia.org/wiki/Mitch_McConnell, I know the CSS class of the infobox is \"infobox.vcard\""
   ]
  },
  {
   "cell_type": "markdown",
   "id": "510d1d05",
   "metadata": {},
   "source": [
    "b) Extract the part of the HTML document that contains the infobox using the CSS information."
   ]
  },
  {
   "cell_type": "code",
   "execution_count": 190,
   "id": "0f298b8c",
   "metadata": {},
   "outputs": [],
   "source": [
    "import lxml\n",
    "from lxml import html \n",
    "import requests\n"
   ]
  },
  {
   "cell_type": "code",
   "execution_count": 191,
   "id": "b63db49b",
   "metadata": {},
   "outputs": [],
   "source": [
    "link=\"https://en.wikipedia.org/wiki/Mitch_McConnell\"\n",
    "wiki=requests.get(link)\n",
    "wiki_doc=html.fromstring(wiki.content)"
   ]
  },
  {
   "cell_type": "code",
   "execution_count": 192,
   "id": "e93a9d0a",
   "metadata": {},
   "outputs": [],
   "source": [
    "from lxml.cssselect import CSSSelector\n"
   ]
  },
  {
   "cell_type": "code",
   "execution_count": 193,
   "id": "334ea5b3",
   "metadata": {},
   "outputs": [],
   "source": [
    "Info=wiki_doc.cssselect(\".infobox.vcard> tbody >tr\")"
   ]
  },
  {
   "cell_type": "code",
   "execution_count": 194,
   "id": "aab2b4c3",
   "metadata": {},
   "outputs": [
    {
     "data": {
      "text/plain": [
       "'Senate Minority Leader'"
      ]
     },
     "execution_count": 194,
     "metadata": {},
     "output_type": "execute_result"
    }
   ],
   "source": [
    "Info[3][0][0].text"
   ]
  },
  {
   "cell_type": "markdown",
   "id": "072802a5",
   "metadata": {},
   "source": [
    "3. Make a data frame"
   ]
  },
  {
   "cell_type": "markdown",
   "id": "73ea86e8",
   "metadata": {},
   "source": [
    "a) Parse the infobox table HTML you obtained above into a data frame."
   ]
  },
  {
   "cell_type": "markdown",
   "id": "0641bff1",
   "metadata": {},
   "source": [
    "b) Name the columns of the table you obtain key and value. So, in the example for Mitch McConnell, \"Whip\" would be the key, and the content information (i.e. the value) is \"John Thune\"."
   ]
  },
  {
   "cell_type": "code",
   "execution_count": 195,
   "id": "037aaf78",
   "metadata": {},
   "outputs": [],
   "source": [
    "#mw-content-text > div.mw-parser-output > table.infobox.vcard > tbody > tr:nth-child(8) > th"
   ]
  },
  {
   "cell_type": "code",
   "execution_count": 196,
   "id": "39086c68",
   "metadata": {},
   "outputs": [],
   "source": [
    "key=wiki_doc.xpath(\"//*[@id='mw-content-text']/div[1]/table[1]/tbody/tr/th/descendant-or-self::*/text()\")"
   ]
  },
  {
   "cell_type": "code",
   "execution_count": 197,
   "id": "6888e862",
   "metadata": {},
   "outputs": [],
   "source": [
    "value=wiki_doc.xpath(\"//*[@id='mw-content-text']/div[1]/table[1]/tbody/tr/td/descendant::*/text()\")"
   ]
  },
  {
   "cell_type": "code",
   "execution_count": 198,
   "id": "1e2d4841",
   "metadata": {},
   "outputs": [],
   "source": [
    "import pandas as pd"
   ]
  },
  {
   "cell_type": "code",
   "execution_count": 199,
   "id": "89fbd1b5",
   "metadata": {},
   "outputs": [],
   "source": [
    "value=value[0:51]\n"
   ]
  },
  {
   "cell_type": "code",
   "execution_count": 200,
   "id": "d46b1529",
   "metadata": {},
   "outputs": [],
   "source": [
    "df=pd.DataFrame({\"key\":key,\"value\":value})"
   ]
  },
  {
   "cell_type": "code",
   "execution_count": 201,
   "id": "6776a6be",
   "metadata": {},
   "outputs": [
    {
     "data": {
      "text/html": [
       "<div>\n",
       "<style scoped>\n",
       "    .dataframe tbody tr th:only-of-type {\n",
       "        vertical-align: middle;\n",
       "    }\n",
       "\n",
       "    .dataframe tbody tr th {\n",
       "        vertical-align: top;\n",
       "    }\n",
       "\n",
       "    .dataframe thead th {\n",
       "        text-align: right;\n",
       "    }\n",
       "</style>\n",
       "<table border=\"1\" class=\"dataframe\">\n",
       "  <thead>\n",
       "    <tr style=\"text-align: right;\">\n",
       "      <th></th>\n",
       "      <th>key</th>\n",
       "      <th>value</th>\n",
       "    </tr>\n",
       "  </thead>\n",
       "  <tbody>\n",
       "    <tr>\n",
       "      <th>0</th>\n",
       "      <td>Mitch McConnell</td>\n",
       "      <td>Official portrait, 2016</td>\n",
       "    </tr>\n",
       "    <tr>\n",
       "      <th>1</th>\n",
       "      <td>Senate Minority Leader</td>\n",
       "      <td>Incumbent</td>\n",
       "    </tr>\n",
       "    <tr>\n",
       "      <th>2</th>\n",
       "      <td>Whip</td>\n",
       "      <td>Assumed office</td>\n",
       "    </tr>\n",
       "    <tr>\n",
       "      <th>3</th>\n",
       "      <td>Preceded by</td>\n",
       "      <td>John Thune</td>\n",
       "    </tr>\n",
       "    <tr>\n",
       "      <th>4</th>\n",
       "      <td>Whip</td>\n",
       "      <td>Chuck Schumer</td>\n",
       "    </tr>\n",
       "  </tbody>\n",
       "</table>\n",
       "</div>"
      ],
      "text/plain": [
       "                      key                    value\n",
       "0         Mitch McConnell  Official portrait, 2016\n",
       "1  Senate Minority Leader                Incumbent\n",
       "2                    Whip           Assumed office\n",
       "3             Preceded by               John Thune\n",
       "4                    Whip            Chuck Schumer"
      ]
     },
     "execution_count": 201,
     "metadata": {},
     "output_type": "execute_result"
    }
   ],
   "source": [
    "df.head()"
   ]
  },
  {
   "cell_type": "markdown",
   "id": "81938b25",
   "metadata": {},
   "source": [
    "c) Filter the data frame (and rename variables if necessary) to the \"Full name\", \"Political Party\", and \"Children\". Use this selection of variables for all subsequent questions."
   ]
  },
  {
   "cell_type": "code",
   "execution_count": 202,
   "id": "4f3e3b1b",
   "metadata": {},
   "outputs": [],
   "source": [
    "pp=wiki_doc.xpath(\"//tbody/tr/*[contains(text(),'Political party')]/parent::tr/td/a/text()\")"
   ]
  },
  {
   "cell_type": "code",
   "execution_count": 203,
   "id": "f1c69c1f",
   "metadata": {},
   "outputs": [],
   "source": [
    "c=wiki_doc.xpath(\"//tbody/tr/*[contains(text(),'Children')]/parent::tr/td/text()\")"
   ]
  },
  {
   "cell_type": "code",
   "execution_count": 204,
   "id": "46c0c389",
   "metadata": {},
   "outputs": [],
   "source": [
    "n=wiki_doc.xpath(\"//tbody/tr/th/descendant-or-self::*/text()\")[0]"
   ]
  },
  {
   "cell_type": "code",
   "execution_count": 205,
   "id": "71085e2f",
   "metadata": {},
   "outputs": [
    {
     "data": {
      "text/html": [
       "<div>\n",
       "<style scoped>\n",
       "    .dataframe tbody tr th:only-of-type {\n",
       "        vertical-align: middle;\n",
       "    }\n",
       "\n",
       "    .dataframe tbody tr th {\n",
       "        vertical-align: top;\n",
       "    }\n",
       "\n",
       "    .dataframe thead th {\n",
       "        text-align: right;\n",
       "    }\n",
       "</style>\n",
       "<table border=\"1\" class=\"dataframe\">\n",
       "  <thead>\n",
       "    <tr style=\"text-align: right;\">\n",
       "      <th></th>\n",
       "      <th>key</th>\n",
       "      <th>value</th>\n",
       "    </tr>\n",
       "  </thead>\n",
       "  <tbody>\n",
       "    <tr>\n",
       "      <th>0</th>\n",
       "      <td>Political party</td>\n",
       "      <td>[Republican]</td>\n",
       "    </tr>\n",
       "    <tr>\n",
       "      <th>1</th>\n",
       "      <td>Children</td>\n",
       "      <td>[3]</td>\n",
       "    </tr>\n",
       "    <tr>\n",
       "      <th>2</th>\n",
       "      <td>Full name</td>\n",
       "      <td>Mitch McConnell</td>\n",
       "    </tr>\n",
       "  </tbody>\n",
       "</table>\n",
       "</div>"
      ],
      "text/plain": [
       "               key            value\n",
       "0  Political party     [Republican]\n",
       "1         Children              [3]\n",
       "2        Full name  Mitch McConnell"
      ]
     },
     "execution_count": 205,
     "metadata": {},
     "output_type": "execute_result"
    }
   ],
   "source": [
    "data=[[\"Political party\",pp],[\"Children\",c],[\"Full name\",n]]\n",
    "df = pd.DataFrame(data, columns=['key', 'value'])\n",
    "df"
   ]
  },
  {
   "cell_type": "markdown",
   "id": "52406a40",
   "metadata": {},
   "source": [
    "4. Make a function"
   ]
  },
  {
   "cell_type": "markdown",
   "id": "9285a37f",
   "metadata": {},
   "source": [
    "a) Use the code above to make a function called get_wiki_info that uses a single input url (a Wikipedia URL) and outputs the data frame of the format above. There is no need to account for exceptions (e.g. no info box on the page; page does not exist etc.) - we will only use members of the U.S. Senate for this exercise."
   ]
  },
  {
   "cell_type": "code",
   "execution_count": 206,
   "id": "37cc8f3d",
   "metadata": {},
   "outputs": [],
   "source": [
    "def get_wiki_info(url):\n",
    "    wiki=requests.get(url)\n",
    "    wiki_doc=html.fromstring(wiki.content)\n",
    "    pp=wiki_doc.xpath(\"//tbody/tr/*[contains(text(),'Political party')]/parent::tr/td/a/text()\")\n",
    "    c=wiki_doc.xpath(\"//tbody/tr/*[contains(text(),'Children')]/parent::tr/td/text()\")\n",
    "    n=wiki_doc.xpath(\"//tbody/tr/th/descendant-or-self::*/text()\")[0]\n",
    "    if not c:\n",
    "        c=\"NA\"\n",
    "    data=[[\"Political party\",pp],[\"Children\",c],[\"Full name\",n]]\n",
    "    df = pd.DataFrame(data, columns=['key', 'value'])\n",
    "    \n",
    "    return df"
   ]
  },
  {
   "cell_type": "code",
   "execution_count": 207,
   "id": "98704dbf",
   "metadata": {},
   "outputs": [
    {
     "data": {
      "text/html": [
       "<div>\n",
       "<style scoped>\n",
       "    .dataframe tbody tr th:only-of-type {\n",
       "        vertical-align: middle;\n",
       "    }\n",
       "\n",
       "    .dataframe tbody tr th {\n",
       "        vertical-align: top;\n",
       "    }\n",
       "\n",
       "    .dataframe thead th {\n",
       "        text-align: right;\n",
       "    }\n",
       "</style>\n",
       "<table border=\"1\" class=\"dataframe\">\n",
       "  <thead>\n",
       "    <tr style=\"text-align: right;\">\n",
       "      <th></th>\n",
       "      <th>key</th>\n",
       "      <th>value</th>\n",
       "    </tr>\n",
       "  </thead>\n",
       "  <tbody>\n",
       "    <tr>\n",
       "      <th>0</th>\n",
       "      <td>Political party</td>\n",
       "      <td>[Republican]</td>\n",
       "    </tr>\n",
       "    <tr>\n",
       "      <th>1</th>\n",
       "      <td>Children</td>\n",
       "      <td>[3]</td>\n",
       "    </tr>\n",
       "    <tr>\n",
       "      <th>2</th>\n",
       "      <td>Full name</td>\n",
       "      <td>Mitch McConnell</td>\n",
       "    </tr>\n",
       "  </tbody>\n",
       "</table>\n",
       "</div>"
      ],
      "text/plain": [
       "               key            value\n",
       "0  Political party     [Republican]\n",
       "1         Children              [3]\n",
       "2        Full name  Mitch McConnell"
      ]
     },
     "execution_count": 207,
     "metadata": {},
     "output_type": "execute_result"
    }
   ],
   "source": [
    "get_wiki_info(url=\"https://en.wikipedia.org/wiki/Mitch_McConnell\")"
   ]
  },
  {
   "cell_type": "markdown",
   "id": "152b6fc0",
   "metadata": {},
   "source": [
    "b) Show how your function works on the following two URLs:"
   ]
  },
  {
   "cell_type": "code",
   "execution_count": 208,
   "id": "48e73c6c",
   "metadata": {},
   "outputs": [
    {
     "data": {
      "text/html": [
       "<div>\n",
       "<style scoped>\n",
       "    .dataframe tbody tr th:only-of-type {\n",
       "        vertical-align: middle;\n",
       "    }\n",
       "\n",
       "    .dataframe tbody tr th {\n",
       "        vertical-align: top;\n",
       "    }\n",
       "\n",
       "    .dataframe thead th {\n",
       "        text-align: right;\n",
       "    }\n",
       "</style>\n",
       "<table border=\"1\" class=\"dataframe\">\n",
       "  <thead>\n",
       "    <tr style=\"text-align: right;\">\n",
       "      <th></th>\n",
       "      <th>key</th>\n",
       "      <th>value</th>\n",
       "    </tr>\n",
       "  </thead>\n",
       "  <tbody>\n",
       "    <tr>\n",
       "      <th>0</th>\n",
       "      <td>Political party</td>\n",
       "      <td>[Democratic]</td>\n",
       "    </tr>\n",
       "    <tr>\n",
       "      <th>1</th>\n",
       "      <td>Children</td>\n",
       "      <td>[2]</td>\n",
       "    </tr>\n",
       "    <tr>\n",
       "      <th>2</th>\n",
       "      <td>Full name</td>\n",
       "      <td>Tammy Duckworth</td>\n",
       "    </tr>\n",
       "  </tbody>\n",
       "</table>\n",
       "</div>"
      ],
      "text/plain": [
       "               key            value\n",
       "0  Political party     [Democratic]\n",
       "1         Children              [2]\n",
       "2        Full name  Tammy Duckworth"
      ]
     },
     "execution_count": 208,
     "metadata": {},
     "output_type": "execute_result"
    }
   ],
   "source": [
    "get_wiki_info(\"https://en.wikipedia.org/wiki/Tammy_Duckworth\")"
   ]
  },
  {
   "cell_type": "code",
   "execution_count": 209,
   "id": "0b636ac7",
   "metadata": {},
   "outputs": [
    {
     "data": {
      "text/html": [
       "<div>\n",
       "<style scoped>\n",
       "    .dataframe tbody tr th:only-of-type {\n",
       "        vertical-align: middle;\n",
       "    }\n",
       "\n",
       "    .dataframe tbody tr th {\n",
       "        vertical-align: top;\n",
       "    }\n",
       "\n",
       "    .dataframe thead th {\n",
       "        text-align: right;\n",
       "    }\n",
       "</style>\n",
       "<table border=\"1\" class=\"dataframe\">\n",
       "  <thead>\n",
       "    <tr style=\"text-align: right;\">\n",
       "      <th></th>\n",
       "      <th>key</th>\n",
       "      <th>value</th>\n",
       "    </tr>\n",
       "  </thead>\n",
       "  <tbody>\n",
       "    <tr>\n",
       "      <th>0</th>\n",
       "      <td>Political party</td>\n",
       "      <td>[Republican]</td>\n",
       "    </tr>\n",
       "    <tr>\n",
       "      <th>1</th>\n",
       "      <td>Children</td>\n",
       "      <td>NA</td>\n",
       "    </tr>\n",
       "    <tr>\n",
       "      <th>2</th>\n",
       "      <td>Full name</td>\n",
       "      <td>Susan Collins</td>\n",
       "    </tr>\n",
       "  </tbody>\n",
       "</table>\n",
       "</div>"
      ],
      "text/plain": [
       "               key          value\n",
       "0  Political party   [Republican]\n",
       "1         Children             NA\n",
       "2        Full name  Susan Collins"
      ]
     },
     "execution_count": 209,
     "metadata": {},
     "output_type": "execute_result"
    }
   ],
   "source": [
    "get_wiki_info(\"https://en.wikipedia.org/wiki/Susan_Collins\")"
   ]
  },
  {
   "cell_type": "code",
   "execution_count": null,
   "id": "d6d6158b",
   "metadata": {},
   "outputs": [],
   "source": []
  },
  {
   "cell_type": "code",
   "execution_count": null,
   "id": "08faedaf",
   "metadata": {},
   "outputs": [],
   "source": []
  },
  {
   "cell_type": "code",
   "execution_count": null,
   "id": "2b08a103",
   "metadata": {},
   "outputs": [],
   "source": []
  },
  {
   "cell_type": "code",
   "execution_count": null,
   "id": "ea900674",
   "metadata": {},
   "outputs": [],
   "source": []
  }
 ],
 "metadata": {
  "kernelspec": {
   "display_name": "Python 3 (ipykernel)",
   "language": "python",
   "name": "python3"
  },
  "language_info": {
   "codemirror_mode": {
    "name": "ipython",
    "version": 3
   },
   "file_extension": ".py",
   "mimetype": "text/x-python",
   "name": "python",
   "nbconvert_exporter": "python",
   "pygments_lexer": "ipython3",
   "version": "3.8.8"
  }
 },
 "nbformat": 4,
 "nbformat_minor": 5
}
