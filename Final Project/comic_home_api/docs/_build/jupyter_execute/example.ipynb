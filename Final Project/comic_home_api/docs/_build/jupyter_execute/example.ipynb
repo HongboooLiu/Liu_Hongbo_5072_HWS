{
 "cells": [
  {
   "cell_type": "markdown",
   "metadata": {
    "id": "m1kEPE8wN44O"
   },
   "source": [
    "# Example usage\n",
    "\n"
   ]
  },
  {
   "cell_type": "markdown",
   "metadata": {
    "id": "i8QtW3yMc7-G"
   },
   "source": [
    "comic_home_api is a api package used to extract data from Comic Home website: https://m.dmzj.com/"
   ]
  },
  {
   "cell_type": "markdown",
   "metadata": {
    "id": "cwrXMCu7N9Yv"
   },
   "source": [
    "We can first install this package from pypi"
   ]
  },
  {
   "cell_type": "code",
   "execution_count": 27,
   "metadata": {
    "colab": {
     "base_uri": "https://localhost:8080/"
    },
    "id": "v1jVyx01ODEL",
    "outputId": "3db8d795-7feb-400e-a616-0baf7e10eb84"
   },
   "outputs": [
    {
     "name": "stdout",
     "output_type": "stream",
     "text": [
      "Looking in indexes: https://pypi.org/simple, https://us-python.pkg.dev/colab-wheels/public/simple/\n",
      "Collecting comic_home_api\n",
      "  Using cached comic_home_api-0.1.0-py3-none-any.whl (3.4 kB)\n",
      "Installing collected packages: comic-home-api\n",
      "Successfully installed comic-home-api-0.1.0\n"
     ]
    }
   ],
   "source": [
    "!pip install comic_home_api"
   ]
  },
  {
   "cell_type": "markdown",
   "metadata": {
    "id": "jtH-BuMZttAd"
   },
   "source": [
    "# News"
   ]
  },
  {
   "cell_type": "markdown",
   "metadata": {
    "id": "_8Umo7swPiar"
   },
   "source": [
    "We can use get_news() to find out the recommended news everyday.Here the title is the title for the news, the pic_url is the link to the image in this news and the object_url is the link to the news in the official website."
   ]
  },
  {
   "cell_type": "code",
   "execution_count": 31,
   "metadata": {
    "colab": {
     "base_uri": "https://localhost:8080/"
    },
    "id": "1GI2ND7iN44Q",
    "outputId": "123d6580-67cf-40ea-b8dc-aa431d7ee01e"
   },
   "outputs": [
    {
     "data": {
      "text/plain": [
       "{'code': 0,\n",
       " 'msg': '成功',\n",
       " 'data': [{'id': 5157,\n",
       "   'title': '间谍过家家获搜索大奖！12月1周汇总',\n",
       "   'pic_url': 'https://images.dmzj.com/news/recommend/16704069624248.jpg',\n",
       "   'object_id': 76418,\n",
       "   'object_url': 'https://v3api.dmzj.com/article/show/v2/76418.html'},\n",
       "  {'id': 4847,\n",
       "   'title': '目标！让B站送我们小电视！',\n",
       "   'pic_url': 'https://images.dmzj.com/news/recommend/16709223243192.jpg',\n",
       "   'object_id': 76526,\n",
       "   'object_url': 'https://v3api.dmzj.com/article/show/v2/76526.html'},\n",
       "  {'id': 5158,\n",
       "   'title': '美图推荐——渐变发色特辑',\n",
       "   'pic_url': 'https://images.dmzj.com/news/recommend/16704069951472.jpg',\n",
       "   'object_id': 76452,\n",
       "   'object_url': 'https://v3api.dmzj.com/article/show/v2/76452.html'},\n",
       "  {'id': 5159,\n",
       "   'title': '东京动画奖2023',\n",
       "   'pic_url': 'https://images.dmzj.com/news/recommend/16704070197621.jpg',\n",
       "   'object_id': 76442,\n",
       "   'object_url': 'https://v3api.dmzj.com/article/show/v2/76442.html'},\n",
       "  {'id': 5160,\n",
       "   'title': '灌篮高手首周末票房近13亿日元',\n",
       "   'pic_url': 'https://images.dmzj.com/news/recommend/16704070444469.jpg',\n",
       "   'object_id': 76429,\n",
       "   'object_url': 'https://v3api.dmzj.com/article/show/v2/76429.html'}]}"
      ]
     },
     "execution_count": 31,
     "metadata": {},
     "output_type": "execute_result"
    }
   ],
   "source": [
    "from comic_home_api import comic_home_api\n",
    "comic_home_api.get_news()[1].json()"
   ]
  },
  {
   "cell_type": "markdown",
   "metadata": {
    "id": "xTsefbtXsJNW"
   },
   "source": [
    "# Comic books recommendation"
   ]
  },
  {
   "cell_type": "markdown",
   "metadata": {
    "id": "Uw7To9swsISq"
   },
   "source": [
    "Comic Home website recommends different comic books everyday, we can get this recommend list through function get_comic_recomm(). Here is an example, the recommended comic books today."
   ]
  },
  {
   "cell_type": "code",
   "execution_count": 33,
   "metadata": {
    "colab": {
     "base_uri": "https://localhost:8080/"
    },
    "id": "MBe0TrYosRi5",
    "outputId": "0cbf25c7-0b5f-4262-bdbc-f19af1096ca3"
   },
   "outputs": [
    {
     "data": {
      "text/plain": [
       "[{'cover': 'https://images.dmzj.com/webpic/4/snbqxycwjr20210710.jpg',\n",
       "  'title': '兵器少女',\n",
       "  'sub_title': '作者：ななてる',\n",
       "  'type': 1,\n",
       "  'url': '',\n",
       "  'obj_id': 61113,\n",
       "  'status': '连载中'},\n",
       " {'cover': 'https://images.dmzj.com/webpic/8/zqybsn1124.jpg',\n",
       "  'title': '佣兵少女',\n",
       "  'sub_title': '作者：笹塔五郎',\n",
       "  'type': 1,\n",
       "  'url': '',\n",
       "  'obj_id': 59033,\n",
       "  'status': '连载中'},\n",
       " {'cover': 'https://images.dmzj.com/webpic/16/xianjingshaonv116.jpg',\n",
       "  'title': '陷阱少女',\n",
       "  'sub_title': '作者：绿山のぶひろ',\n",
       "  'type': 1,\n",
       "  'url': '',\n",
       "  'obj_id': 43288,\n",
       "  'status': '连载中'},\n",
       " {'cover': 'https://images.dmzj.com/tuijian/320_170/221117xinman112.jpg',\n",
       "  'title': '新漫周刊第112期',\n",
       "  'sub_title': '新漫周刊第112期',\n",
       "  'type': 5,\n",
       "  'url': '',\n",
       "  'obj_id': 492,\n",
       "  'status': ''},\n",
       " {'cover': 'https://images.dmzj.com/tuijian/320_170/221012weilaimanhuajia01.jpg',\n",
       "  'title': '未来漫画家·评选结果公布！',\n",
       "  'sub_title': '未来漫画家·评选结果公布！',\n",
       "  'type': 5,\n",
       "  'url': '',\n",
       "  'obj_id': 489,\n",
       "  'status': ''},\n",
       " {'cover': 'https://images.dmzj.com/tuijian/320_170/221021youxiwangtj01.jpg',\n",
       "  'title': '出发！从零开始的游戏王环境之旅！',\n",
       "  'sub_title': '出发！从零开始的游戏王环境之旅！',\n",
       "  'type': 6,\n",
       "  'url': 'https://zt.dmzj.com/ygohistory/',\n",
       "  'obj_id': 0,\n",
       "  'status': ''},\n",
       " {'cover': 'https://images.dmzj.com/tuijian/320_170/220822xinman111.jpg',\n",
       "  'title': '新漫周刊第111期',\n",
       "  'sub_title': '新漫周刊第111期',\n",
       "  'type': 5,\n",
       "  'url': '',\n",
       "  'obj_id': 486,\n",
       "  'status': ''},\n",
       " {'cover': 'https://images.dmzj.com/tuijian/150_200/171211qiubenzhi.jpg',\n",
       "  'title': '秋本治',\n",
       "  'sub_title': '',\n",
       "  'type': 8,\n",
       "  'url': '',\n",
       "  'obj_id': 1147,\n",
       "  'status': ''},\n",
       " {'cover': 'https://images.dmzj.com/tuijian/150_200/171211shuishangwuzhi.jpg',\n",
       "  'title': '水上悟志',\n",
       "  'sub_title': '',\n",
       "  'type': 8,\n",
       "  'url': '',\n",
       "  'obj_id': 1705,\n",
       "  'status': ''},\n",
       " {'cover': 'https://images.dmzj.com/tuijian/150_200/170707zhicunguizi.jpg',\n",
       "  'title': '志村贵子',\n",
       "  'sub_title': '',\n",
       "  'type': 8,\n",
       "  'url': '',\n",
       "  'obj_id': 147,\n",
       "  'status': ''},\n",
       " {'cover': 'https://images.dmzj.com/img/webpic/12/1146966321645106095.jpg',\n",
       "  'title': '猛汉男仆',\n",
       "  'sub_title': '作者：普通纸工作室',\n",
       "  'type': 1,\n",
       "  'url': '',\n",
       "  'obj_id': 63825,\n",
       "  'status': '连载中'},\n",
       " {'cover': 'https://images.dmzj.com/img/webpic/12/1146966321648713207.jpg',\n",
       "  'title': '逆灵千岁',\n",
       "  'sub_title': '作者：普通纸工作室',\n",
       "  'type': 1,\n",
       "  'url': '',\n",
       "  'obj_id': 64399,\n",
       "  'status': '连载中'},\n",
       " {'cover': 'https://images.dmzj.com/img/webpic/3/1109466231620720862.jpg',\n",
       "  'title': '小神仙',\n",
       "  'sub_title': '作者：阿喜不咕不咕',\n",
       "  'type': 1,\n",
       "  'url': '',\n",
       "  'obj_id': 54096,\n",
       "  'status': '连载中'},\n",
       " {'cover': 'https://images.dmzj.com/img/webpic/16/1095999961565845960.jpg',\n",
       "  'title': '春雪',\n",
       "  'sub_title': '作者：haruru',\n",
       "  'type': 1,\n",
       "  'url': '',\n",
       "  'obj_id': 49648,\n",
       "  'status': '连载中'},\n",
       " {'cover': 'https://images.dmzj.com/img/webpic/13/1625197595.jpg',\n",
       "  'title': '喜欢的女孩子，就像水蜜桃',\n",
       "  'sub_title': '作者：I am haruru',\n",
       "  'type': 1,\n",
       "  'url': '',\n",
       "  'obj_id': 61023,\n",
       "  'status': '已完结'},\n",
       " {'cover': 'https://images.dmzj.com/img/webpic/13/1625625863.jpg',\n",
       "  'title': 'Beats',\n",
       "  'sub_title': '作者：I am haruru',\n",
       "  'type': 1,\n",
       "  'url': '',\n",
       "  'obj_id': 61086,\n",
       "  'status': '已完结'},\n",
       " {'cover': 'https://images.dmzj.com/tuijian/320_170/0829mimidiguo.jpg',\n",
       "  'title': '秘密帝国',\n",
       "  'sub_title': '',\n",
       "  'type': 1,\n",
       "  'url': '',\n",
       "  'obj_id': 40252,\n",
       "  'status': '连载中'},\n",
       " {'cover': 'https://images.dmzj.com/tuijian/320_170/0829jinshu.jpg',\n",
       "  'title': '黑暗之夜-金属',\n",
       "  'sub_title': '',\n",
       "  'type': 1,\n",
       "  'url': '',\n",
       "  'obj_id': 41249,\n",
       "  'status': '连载中'},\n",
       " {'cover': 'https://images.dmzj.com/tuijian/320_170/0426zhujiezhizhan320.jpg',\n",
       "  'title': '诸界之战',\n",
       "  'sub_title': '',\n",
       "  'type': 1,\n",
       "  'url': '',\n",
       "  'obj_id': 47990,\n",
       "  'status': '已完结'},\n",
       " {'cover': 'https://images.dmzj.com/tuijian/320_170/0829wuxianzhanzheng.jpg',\n",
       "  'title': '无限战争',\n",
       "  'sub_title': '',\n",
       "  'type': 1,\n",
       "  'url': '',\n",
       "  'obj_id': 45080,\n",
       "  'status': '已完结'},\n",
       " {'cover': 'https://images.dmzj.com/webpic/17/zayuzayuzayulaoshi.jpg',\n",
       "  'title': '杂~鱼~杂鱼杂鱼老师',\n",
       "  'sub_title': '作者：ぜろよん',\n",
       "  'type': 1,\n",
       "  'url': '',\n",
       "  'obj_id': 67428,\n",
       "  'status': '连载中'},\n",
       " {'cover': 'https://images.dmzj.com/webpic/8/bhanpszp20221205.jpg',\n",
       "  'title': '被暗黑女仆所支配',\n",
       "  'sub_title': '作者：八坂アキヲ/相川有',\n",
       "  'type': 1,\n",
       "  'url': '',\n",
       "  'obj_id': 67811,\n",
       "  'status': '连载中'},\n",
       " {'cover': 'https://images.dmzj.com/webpic/1/rgjxlzbtldngzshzy20211029.jpg',\n",
       "  'title': '如果救下了准备跳楼的女高中生会怎样？',\n",
       "  'sub_title': '作者：うるひこ/岸马きらく',\n",
       "  'type': 1,\n",
       "  'url': '',\n",
       "  'obj_id': 62465,\n",
       "  'status': '连载中'},\n",
       " {'cover': 'https://images.dmzj.com/webpic/5/wdwylpjsrqox20221202.jpg',\n",
       "  'title': '我的网游老婆竟是人气偶像~冰山系的她现实中也想嫁给我~',\n",
       "  'sub_title': '作者：あボーン/もっつぉ',\n",
       "  'type': 1,\n",
       "  'url': '',\n",
       "  'obj_id': 67766,\n",
       "  'status': '连载中'},\n",
       " {'cover': 'https://images.dmzj.com/webpic/4/kdjoaztx20220630.jpg',\n",
       "  'title': '我看得见哦！爱泽同学',\n",
       "  'sub_title': '作者：棘尾どろしー',\n",
       "  'type': 1,\n",
       "  'url': '',\n",
       "  'obj_id': 65716,\n",
       "  'status': '连载中'},\n",
       " {'cover': 'https://images.dmzj.com/webpic/15/xiangchidiaowodefeirenshaonv58.jpg',\n",
       "  'title': '想吃掉我的非人少女',\n",
       "  'sub_title': '作者：苗川采',\n",
       "  'type': 1,\n",
       "  'url': '',\n",
       "  'obj_id': 56324,\n",
       "  'status': '连载中'},\n",
       " {'cover': 'https://images.dmzj.com/tuijian/320_170/160802qingmeizhuma.jpg',\n",
       "  'title': '完全没有恋爱感情的青梅竹马',\n",
       "  'sub_title': '',\n",
       "  'type': 1,\n",
       "  'url': '',\n",
       "  'obj_id': 33322,\n",
       "  'status': '连载中'},\n",
       " {'cover': 'https://images.dmzj.com/tuijian/320_170/190228mianbaodailaiheping.jpg',\n",
       "  'title': '面包带来和平',\n",
       "  'sub_title': '',\n",
       "  'type': 1,\n",
       "  'url': '',\n",
       "  'obj_id': 21524,\n",
       "  'status': '已完结'},\n",
       " {'cover': 'https://images.dmzj.com/tuijian/320_170/keleimiyuwangzhijai190228.jpg',\n",
       "  'title': '克雷米与王之家',\n",
       "  'sub_title': '',\n",
       "  'type': 1,\n",
       "  'url': '',\n",
       "  'obj_id': 45838,\n",
       "  'status': '已完结'},\n",
       " {'cover': 'https://images.dmzj.com/tuijian/320_170/190228heixinqiyezhiyuanbianchengmao.jpg',\n",
       "  'title': '黑心企业的职员变成猫之后人生有了转变的故事',\n",
       "  'sub_title': '',\n",
       "  'type': 1,\n",
       "  'url': '',\n",
       "  'obj_id': 47515,\n",
       "  'status': '已完结'},\n",
       " {'id': 67901,\n",
       "  'title': '大叔狩猎',\n",
       "  'authors': 'つくすん',\n",
       "  'status': '已完结',\n",
       "  'cover': 'https://images.dmzj.com/webpic/12/dashushoulie.jpg'},\n",
       " {'id': 67900,\n",
       "  'title': '甘井妹妹和可怜的哥哥',\n",
       "  'authors': 'らきろろむ',\n",
       "  'status': '连载中',\n",
       "  'cover': 'https://images.dmzj.com/webpic/10/ganjingmeimeiekelendegege.jpg'},\n",
       " {'id': 67899,\n",
       "  'title': '女汉子的世界观',\n",
       "  'authors': '达西',\n",
       "  'status': '连载中',\n",
       "  'cover': 'https://images.dmzj.com/img/webpic/6/1093044461670806062.jpg'},\n",
       " {'id': 67898,\n",
       "  'title': '女高中生和笠地蔵',\n",
       "  'authors': 'ぽて',\n",
       "  'status': '已完结',\n",
       "  'cover': 'https://images.dmzj.com/webpic/4/dnaujsxasdas202221213.jpg'},\n",
       " {'id': 67897,\n",
       "  'title': '闲散二人的缥缈乐园',\n",
       "  'authors': 'baba',\n",
       "  'status': '已完结',\n",
       "  'cover': 'https://images.dmzj.com/webpic/4/1erdpmly20221213.jpg'},\n",
       " {'id': 67896,\n",
       "  'title': '收下老公的童贞',\n",
       "  'authors': '神山とく',\n",
       "  'status': '连载中',\n",
       "  'cover': 'https://images.dmzj.com/webpic/0/awdawgseg20212213.jpg'}]"
      ]
     },
     "execution_count": 33,
     "metadata": {},
     "output_type": "execute_result"
    }
   ],
   "source": [
    "comic_home_api.get_comic_recomm()"
   ]
  },
  {
   "cell_type": "markdown",
   "metadata": {
    "id": "miRHFg_wsYu6"
   },
   "source": [
    "Each element in this list is a comic book, the title is the title of this book, the cover is the link to the image of this book and type equals to 1 means it's comic book."
   ]
  },
  {
   "cell_type": "markdown",
   "metadata": {
    "id": "zPJpe1Tusaai"
   },
   "source": [
    "# Light novel recommendation \n"
   ]
  },
  {
   "cell_type": "markdown",
   "metadata": {
    "id": "1_-XucJAs1xn"
   },
   "source": [
    "Comic Home website also recommends different light novels everyday, we can get this recommend list through function get_novel_recomm(). Here is an example, the recommended light novel today:"
   ]
  },
  {
   "cell_type": "code",
   "execution_count": 34,
   "metadata": {
    "colab": {
     "base_uri": "https://localhost:8080/"
    },
    "id": "MkNxMo_Gs29C",
    "outputId": "f660138a-2de6-427f-d2fb-2b00ceb96567"
   },
   "outputs": [
    {
     "data": {
      "text/plain": [
       "[{'id': 2948,\n",
       "  'title': '从本能寺开始与信长统一天下',\n",
       "  'cover': 'https://xs.dmzj.com/img/webpic/16/bnsxc1006l.jpg',\n",
       "  'status': '连载中',\n",
       "  'url': '',\n",
       "  'obj_id': 2948,\n",
       "  'type': 2},\n",
       " {'id': 3483,\n",
       "  'title': '利里耶国骑士团与辛德瑞拉的弦音',\n",
       "  'cover': 'https://xs.dmzj.com/img/webpic/11/ll1213l.jpg',\n",
       "  'status': '连载中',\n",
       "  'url': '',\n",
       "  'obj_id': 3483,\n",
       "  'type': 2},\n",
       " {'id': 3482,\n",
       "  'title': '爱的告别式',\n",
       "  'cover': 'https://xs.dmzj.com/img/webpic/10/agb1211l.jpg',\n",
       "  'status': '已完结',\n",
       "  'url': '',\n",
       "  'obj_id': 3482,\n",
       "  'type': 2},\n",
       " {'id': 3944,\n",
       "  'obj_id': 2215,\n",
       "  'title': '熊熊勇闯异世界',\n",
       "  'cover': 'https://xs.dmzj.com/img/webpic/28/xxx1021l.jpg',\n",
       "  'url': '',\n",
       "  'type': 2,\n",
       "  'sub_title': '作者：くまなの',\n",
       "  'status': '连载中'},\n",
       " {'id': 3945,\n",
       "  'obj_id': 1522,\n",
       "  'title': '期待在地下城邂逅有错吗',\n",
       "  'cover': 'https://xs.dmzj.com/img/webpic/13/zdxcxqxhsfgclsm676l.jpg',\n",
       "  'url': '',\n",
       "  'type': 2,\n",
       "  'sub_title': '作者：大森藤野',\n",
       "  'status': '连载中'},\n",
       " {'id': 3946,\n",
       "  'obj_id': 2895,\n",
       "  'title': '众神眷顾的男人',\n",
       "  'cover': 'https://xs.dmzj.com/img/webpic/0/ssn0702l.jpg',\n",
       "  'url': '',\n",
       "  'type': 2,\n",
       "  'sub_title': '作者：Roy',\n",
       "  'status': '连载中'},\n",
       " {'id': 3941,\n",
       "  'obj_id': 1800,\n",
       "  'title': '转生史莱姆 2期',\n",
       "  'cover': 'https://xs.dmzj.com/img/webpic/27/gywzshcwslmdnjs9l.jpg',\n",
       "  'url': '',\n",
       "  'type': 2,\n",
       "  'sub_title': '1月播出',\n",
       "  'status': '连载中'},\n",
       " {'id': 3942,\n",
       "  'obj_id': 2486,\n",
       "  'title': '好比最终迷宫前的村庄里的少年到新手村生活般的故事',\n",
       "  'cover': 'https://xs.dmzj.com/img/webpic/11/sn0514l.jpg',\n",
       "  'url': '',\n",
       "  'type': 2,\n",
       "  'sub_title': '1月播出',\n",
       "  'status': '连载中'},\n",
       " {'id': 3943,\n",
       "  'obj_id': 2597,\n",
       "  'title': '只有我能进入的隐藏迷宫～低调锻炼化身世界最强～ ',\n",
       "  'cover': 'https://xs.dmzj.com/img/webpic/26/yc1215l.jpg',\n",
       "  'url': '',\n",
       "  'type': 2,\n",
       "  'sub_title': '1月播出',\n",
       "  'status': '连载中'},\n",
       " {'id': 1936,\n",
       "  'obj_id': 471,\n",
       "  'title': '文学少女',\n",
       "  'cover': 'https://xs.dmzj.com/img/webpic/5/wxsn68l.jpg',\n",
       "  'url': '',\n",
       "  'type': 2,\n",
       "  'sub_title': '作者：野村美月',\n",
       "  'status': '已完结'},\n",
       " {'id': 1938,\n",
       "  'obj_id': 244,\n",
       "  'title': '狼与香辛料',\n",
       "  'cover': 'https://xs.dmzj.com/img/webpic/15/lyxxl6869l.jpg',\n",
       "  'url': '',\n",
       "  'type': 2,\n",
       "  'sub_title': '作者：支仓冻砂',\n",
       "  'status': '连载中'},\n",
       " {'id': 1602,\n",
       "  'obj_id': 271,\n",
       "  'title': '凉宫春日物语',\n",
       "  'cover': 'https://xs.dmzj.com/img/webpic/12/160329lianggong.jpg',\n",
       "  'url': '',\n",
       "  'type': 2,\n",
       "  'sub_title': '作者：谷川流',\n",
       "  'status': '连载中'},\n",
       " {'id': 1168,\n",
       "  'obj_id': 239,\n",
       "  'title': '零之使魔',\n",
       "  'cover': 'https://xs.dmzj.com/img/webpic/25/lingzhishimo151117l.jpg',\n",
       "  'url': '',\n",
       "  'type': 2,\n",
       "  'sub_title': '作者：山口升',\n",
       "  'status': '已完结'},\n",
       " {'id': 1607,\n",
       "  'obj_id': 824,\n",
       "  'title': '伯爵与妖精',\n",
       "  'cover': 'https://xs.dmzj.com/img/webpic/2/bjyyj8989l.jpg',\n",
       "  'url': '',\n",
       "  'type': 2,\n",
       "  'sub_title': '作者：谷瑞惠',\n",
       "  'status': '已完结'},\n",
       " {'id': 1603,\n",
       "  'obj_id': 129,\n",
       "  'title': '钢壳都市雷吉欧斯',\n",
       "  'cover': 'https://xs.dmzj.com/img/webpic/29/160329gangke.jpg',\n",
       "  'url': '',\n",
       "  'type': 2,\n",
       "  'sub_title': '作者：雨木シュウスケ',\n",
       "  'status': '已完结'}]"
      ]
     },
     "execution_count": 34,
     "metadata": {},
     "output_type": "execute_result"
    }
   ],
   "source": [
    "comic_home_api.get_novel_recomm()"
   ]
  },
  {
   "cell_type": "markdown",
   "metadata": {
    "id": "IGiQubEos7Fb"
   },
   "source": [
    "Each element in this list is a light novel, the title is the title of this book, the cover is the link to the image of this book and type equals to 2 means it's light novel."
   ]
  },
  {
   "cell_type": "markdown",
   "metadata": {
    "id": "PPmHZCe7s-G1"
   },
   "source": [
    "# Search for light novels and comic books "
   ]
  },
  {
   "cell_type": "markdown",
   "metadata": {
    "id": "PoD87dUytMD4"
   },
   "source": [
    "We can also search the comic books or light novel by function search(big_cat_id,keywords,page). Here for the big_cat_id, 0 means we want to search for comic books and 1 means light novels. And the keywords is the book name we want to search and the page is the page of the searching results. Here is an example, we tried to search for a light novel named \"云霄飞车\", a translated version of the classic horrow novel \"Game land\". So the big_cat_id here is 1."
   ]
  },
  {
   "cell_type": "code",
   "execution_count": 35,
   "metadata": {
    "colab": {
     "base_uri": "https://localhost:8080/"
    },
    "id": "GXz3KhKytNTo",
    "outputId": "2282deb8-8ca0-4d0a-db90-60e6ffcd8241"
   },
   "outputs": [
    {
     "data": {
      "text/plain": [
       "[{'_biz': 'lnovel_lnovels',\n",
       "  'addtime': 1275481526,\n",
       "  'authors': '山田悠介',\n",
       "  'copyright': 0,\n",
       "  'cover': 'https://xs.dmzj.com/img/webpic/7/699M.jpg',\n",
       "  'hidden': 0,\n",
       "  'hot_hits': 10443,\n",
       "  'last_name': '第一卷\\r',\n",
       "  'status': 0,\n",
       "  'title': '8.1 云霄飞车',\n",
       "  'types': '恐怖',\n",
       "  'id': 650}]"
      ]
     },
     "execution_count": 35,
     "metadata": {},
     "output_type": "execute_result"
    }
   ],
   "source": [
    "comic_home_api.search(1,\"云霄飞车\",1).json()"
   ]
  },
  {
   "cell_type": "markdown",
   "metadata": {
    "id": "t2QHIuvFtRzD"
   },
   "source": [
    "Here the \"title\" is the title of our searched book, \"types\" is the category of this book in chinese, the \"cover\" is the link to the cover image and the \"author\" is the author of this book."
   ]
  }
 ],
 "metadata": {
  "colab": {
   "provenance": []
  },
  "kernelspec": {
   "display_name": "Python 3",
   "language": "python",
   "name": "python3"
  },
  "language_info": {
   "codemirror_mode": {
    "name": "ipython",
    "version": 3
   },
   "file_extension": ".py",
   "mimetype": "text/x-python",
   "name": "python",
   "nbconvert_exporter": "python",
   "pygments_lexer": "ipython3",
   "version": "3.8.8"
  }
 },
 "nbformat": 4,
 "nbformat_minor": 0
}