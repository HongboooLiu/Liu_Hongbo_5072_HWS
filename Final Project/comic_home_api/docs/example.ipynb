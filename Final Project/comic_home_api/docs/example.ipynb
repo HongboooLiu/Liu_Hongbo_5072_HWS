{
    "cells": [
        {
            "cell_type": "markdown",
            "source": [
                "# Example usage\n",
                "\n",
                "To use `comic_home_api` in a project:"
            ],
            "metadata": {}
        },
        {
            "cell_type": "code",
            "execution_count": null,
            "source": [
                "import comic_home_api\n",
                "\n",
                "print(comic_home_api.__version__)"
            ],
            "outputs": [],
            "metadata": {}
        }
    ],
    "metadata": {
        "kernelspec": {
            "display_name": "Python 3",
            "language": "python",
            "name": "python3"
        },
        "language_info": {
            "codemirror_mode": {
                "name": "ipython",
                "version": 3
            },
            "file_extension": ".py",
            "mimetype": "text/x-python",
            "name": "python",
            "nbconvert_exporter": "python",
            "pygments_lexer": "ipython3",
            "version": "3.8.5"
        }
    },
    "nbformat": 4,
    "nbformat_minor": 4
}