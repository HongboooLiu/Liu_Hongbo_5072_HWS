{
 "cells": [
  {
   "cell_type": "markdown",
   "id": "2457d294",
   "metadata": {},
   "source": [
    "## HW6\n",
    "## Hongbo Liu\n"
   ]
  },
  {
   "cell_type": "markdown",
   "id": "c22546b8",
   "metadata": {},
   "source": [
    "1. Test the encrypt function\n",
    "a) Write a test function that checks whether the cipher function works using a single word as an example."
   ]
  },
  {
   "cell_type": "code",
   "execution_count": 2,
   "id": "69a502b4",
   "metadata": {},
   "outputs": [],
   "source": [
    "def cipher(text, shift, encrypt=True):\n",
    "    alphabet = 'abcdefghijklmnopqrstuvwxyzABCDEFGHIJKLMNOPQRSTUVWXYZ'\n",
    "    new_text = ''\n",
    "    for c in text:\n",
    "        index = alphabet.find(c)\n",
    "        if index == -1:\n",
    "            new_text += c\n",
    "        else:\n",
    "            new_index = index + shift if encrypt == True else index - shift\n",
    "            new_index %= len(alphabet)\n",
    "            new_text += alphabet[new_index:new_index+1]\n",
    "    return new_text"
   ]
  },
  {
   "cell_type": "code",
   "execution_count": 29,
   "id": "ce649b2a",
   "metadata": {},
   "outputs": [],
   "source": [
    "def test_single_word():\n",
    "    assert cipher(\"single\",3),\"Not working\"\n",
    "test_single_word()"
   ]
  },
  {
   "cell_type": "code",
   "execution_count": 30,
   "id": "ac248978",
   "metadata": {},
   "outputs": [
    {
     "name": "stdout",
     "output_type": "stream",
     "text": [
      "Since there is no output, the test is passed\n"
     ]
    }
   ],
   "source": [
    "print(\"Since there is no output, the test is passed\")"
   ]
  },
  {
   "cell_type": "markdown",
   "id": "635e2ca4",
   "metadata": {},
   "source": [
    "b) Write a test function that checks a negative shift works (shift < 0)."
   ]
  },
  {
   "cell_type": "code",
   "execution_count": 31,
   "id": "b6bf822c",
   "metadata": {},
   "outputs": [],
   "source": [
    "def test_negative_shift():\n",
    "    assert cipher(\"single\",-4),\"Not working\"\n",
    "test_negative_shift()"
   ]
  },
  {
   "cell_type": "code",
   "execution_count": 36,
   "id": "c5beb2d6",
   "metadata": {},
   "outputs": [
    {
     "name": "stdout",
     "output_type": "stream",
     "text": [
      "Since there is no output, the test is passed\n"
     ]
    }
   ],
   "source": [
    "print(\"Since there is no output, the test is passed\")"
   ]
  },
  {
   "cell_type": "markdown",
   "id": "372d8b2f",
   "metadata": {},
   "source": [
    "c) Write a test for the case when the text contains symbols which are not in the alphabet."
   ]
  },
  {
   "cell_type": "code",
   "execution_count": 35,
   "id": "1262a14f",
   "metadata": {},
   "outputs": [],
   "source": [
    "def test_symbols():\n",
    "    assert cipher(\"si&gle\",-4),\"Not working\"\n",
    "test_symbols()"
   ]
  },
  {
   "cell_type": "code",
   "execution_count": 37,
   "id": "d8fea6b0",
   "metadata": {},
   "outputs": [
    {
     "name": "stdout",
     "output_type": "stream",
     "text": [
      "Since there is no output, the test is passed\n"
     ]
    }
   ],
   "source": [
    "print(\"Since there is no output, the test is passed\")"
   ]
  },
  {
   "cell_type": "markdown",
   "id": "1bccb2c2",
   "metadata": {},
   "source": [
    "d) Add an assertion to the original function that causes an exception when the shift parameter is set to a string ( e.g. \"two\"). Now, add a test that checks for that exception occurring as expected when a string is passed to shift."
   ]
  },
  {
   "cell_type": "code",
   "execution_count": 44,
   "id": "56f277a0",
   "metadata": {},
   "outputs": [],
   "source": [
    "import pytest\n",
    "def test_shift_string():\n",
    "    with pytest.raises(TypeError):\n",
    "        cipher(\"single\",\"two\")\n",
    "test_shift_string()"
   ]
  },
  {
   "cell_type": "code",
   "execution_count": 45,
   "id": "c256f69a",
   "metadata": {},
   "outputs": [
    {
     "name": "stdout",
     "output_type": "stream",
     "text": [
      "Since there is no output, the exception test is passed\n"
     ]
    }
   ],
   "source": [
    "print(\"Since there is no output, the exception test is passed\")"
   ]
  },
  {
   "cell_type": "markdown",
   "id": "90b38f9f",
   "metadata": {},
   "source": [
    "e) Add the tests from 1a, 1b, 1c, and 1d to a file called test_cipher.py in your folder. Run all the tests from your command line using pytest (and verbosity setting -vv) and add a screen shot of the command and the output to your homework solution. Alternatively, you can send the tests to your terminal from within your Jupyter notebook using the !pytest command."
   ]
  },
  {
   "cell_type": "code",
   "execution_count": null,
   "id": "b7e1edb8",
   "metadata": {},
   "outputs": [],
   "source": [
    "!pytest "
   ]
  }
 ],
 "metadata": {
  "kernelspec": {
   "display_name": "Python 3",
   "language": "python",
   "name": "python3"
  },
  "language_info": {
   "codemirror_mode": {
    "name": "ipython",
    "version": 3
   },
   "file_extension": ".py",
   "mimetype": "text/x-python",
   "name": "python",
   "nbconvert_exporter": "python",
   "pygments_lexer": "ipython3",
   "version": "3.8.8"
  }
 },
 "nbformat": 4,
 "nbformat_minor": 5
}
