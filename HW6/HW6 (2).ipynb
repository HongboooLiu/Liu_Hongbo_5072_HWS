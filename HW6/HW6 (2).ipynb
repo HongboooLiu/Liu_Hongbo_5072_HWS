{
 "cells": [
  {
   "cell_type": "markdown",
   "id": "2457d294",
   "metadata": {},
   "source": [
    "## HW6\n",
    "## Hongbo Liu\n"
   ]
  },
  {
   "cell_type": "markdown",
   "id": "c22546b8",
   "metadata": {},
   "source": [
    "1. Test the encrypt function\n",
    "a) Write a test function that checks whether the cipher function works using a single word as an example."
   ]
  },
  {
   "cell_type": "code",
   "execution_count": 5,
   "id": "69a502b4",
   "metadata": {},
   "outputs": [],
   "source": [
    "def cipher(text, shift, encrypt=True):\n",
    "    alphabet = 'abcdefghijklmnopqrstuvwxyzABCDEFGHIJKLMNOPQRSTUVWXYZ'\n",
    "    new_text = ''\n",
    "    for c in text:\n",
    "        index = alphabet.find(c)\n",
    "        if index == -1:\n",
    "            new_text += c\n",
    "        else:\n",
    "            new_index = index + shift if encrypt == True else index - shift\n",
    "            new_index %= len(alphabet)\n",
    "            new_text += alphabet[new_index:new_index+1]\n",
    "    return new_text"
   ]
  },
  {
   "cell_type": "code",
   "execution_count": 6,
   "id": "ce649b2a",
   "metadata": {},
   "outputs": [],
   "source": [
    "def test_single_word():\n",
    "    assert cipher(\"single\",3),\"Not working\"\n",
    "test_single_word()"
   ]
  },
  {
   "cell_type": "code",
   "execution_count": 7,
   "id": "ac248978",
   "metadata": {},
   "outputs": [
    {
     "name": "stdout",
     "output_type": "stream",
     "text": [
      "Since there is no output, the test is passed\n"
     ]
    }
   ],
   "source": [
    "print(\"Since there is no output, the test is passed\")"
   ]
  },
  {
   "cell_type": "markdown",
   "id": "635e2ca4",
   "metadata": {},
   "source": [
    "b) Write a test function that checks a negative shift works (shift < 0)."
   ]
  },
  {
   "cell_type": "code",
   "execution_count": 8,
   "id": "b6bf822c",
   "metadata": {},
   "outputs": [],
   "source": [
    "def test_negative_shift():\n",
    "    assert cipher(\"single\",-4),\"Not working\"\n",
    "test_negative_shift()"
   ]
  },
  {
   "cell_type": "code",
   "execution_count": 9,
   "id": "c5beb2d6",
   "metadata": {},
   "outputs": [
    {
     "name": "stdout",
     "output_type": "stream",
     "text": [
      "Since there is no output, the test is passed\n"
     ]
    }
   ],
   "source": [
    "print(\"Since there is no output, the test is passed\")"
   ]
  },
  {
   "cell_type": "markdown",
   "id": "372d8b2f",
   "metadata": {},
   "source": [
    "c) Write a test for the case when the text contains symbols which are not in the alphabet."
   ]
  },
  {
   "cell_type": "code",
   "execution_count": 10,
   "id": "1262a14f",
   "metadata": {},
   "outputs": [],
   "source": [
    "def test_symbols():\n",
    "    assert cipher(\"si&gle\",-4),\"Not working\"\n",
    "test_symbols()"
   ]
  },
  {
   "cell_type": "code",
   "execution_count": 11,
   "id": "d8fea6b0",
   "metadata": {},
   "outputs": [
    {
     "name": "stdout",
     "output_type": "stream",
     "text": [
      "Since there is no output, the test is passed\n"
     ]
    }
   ],
   "source": [
    "print(\"Since there is no output, the test is passed\")"
   ]
  },
  {
   "cell_type": "markdown",
   "id": "1bccb2c2",
   "metadata": {},
   "source": [
    "d) Add an assertion to the original function that causes an exception when the shift parameter is set to a string ( e.g. \"two\"). Now, add a test that checks for that exception occurring as expected when a string is passed to shift."
   ]
  },
  {
   "cell_type": "code",
   "execution_count": 12,
   "id": "56f277a0",
   "metadata": {},
   "outputs": [],
   "source": [
    "import pytest\n",
    "def test_shift_string():\n",
    "    with pytest.raises(TypeError):\n",
    "        cipher(\"single\",\"two\")\n",
    "test_shift_string()"
   ]
  },
  {
   "cell_type": "code",
   "execution_count": 13,
   "id": "c256f69a",
   "metadata": {},
   "outputs": [
    {
     "name": "stdout",
     "output_type": "stream",
     "text": [
      "Since there is no output, the exception test is passed\n"
     ]
    }
   ],
   "source": [
    "print(\"Since there is no output, the exception test is passed\")"
   ]
  },
  {
   "cell_type": "markdown",
   "id": "90b38f9f",
   "metadata": {},
   "source": [
    "e) Add the tests from 1a, 1b, 1c, and 1d to a file called test_cipher.py in your folder. Run all the tests from your command line using pytest (and verbosity setting -vv) and add a screen shot of the command and the output to your homework solution. Alternatively, you can send the tests to your terminal from within your Jupyter notebook using the !pytest command."
   ]
  },
  {
   "cell_type": "code",
   "execution_count": 14,
   "id": "a9c38c76",
   "metadata": {},
   "outputs": [],
   "source": [
    "import pytest"
   ]
  },
  {
   "cell_type": "code",
   "execution_count": 15,
   "id": "b7e1edb8",
   "metadata": {},
   "outputs": [
    {
     "name": "stdout",
     "output_type": "stream",
     "text": [
      "============================= test session starts =============================\n",
      "platform win32 -- Python 3.8.8, pytest-6.2.3, py-1.10.0, pluggy-0.13.1 -- C:\\Users\\22151\\anaconda3\\python.exe\n",
      "cachedir: .pytest_cache\n",
      "rootdir: C:\\Users\\22151\n",
      "plugins: anyio-2.2.0\n",
      "collecting ... collected 4 items\n",
      "\n",
      "test_cipher.py::test_single_word PASSED                                  [ 25%]\n",
      "test_cipher.py::test_negative_shift PASSED                               [ 50%]\n",
      "test_cipher.py::test_symbols PASSED                                      [ 75%]\n",
      "test_cipher.py::test_shift_string PASSED                                 [100%]\n",
      "\n",
      "============================== warnings summary ===============================\n",
      "anaconda3\\lib\\site-packages\\pyreadline\\py3k_compat.py:8\n",
      "  C:\\Users\\22151\\anaconda3\\lib\\site-packages\\pyreadline\\py3k_compat.py:8: DeprecationWarning: Using or importing the ABCs from 'collections' instead of from 'collections.abc' is deprecated since Python 3.3, and in 3.9 it will stop working\n",
      "    return isinstance(x, collections.Callable)\n",
      "\n",
      "-- Docs: https://docs.pytest.org/en/stable/warnings.html\n",
      "======================== 4 passed, 1 warning in 0.03s =========================\n"
     ]
    }
   ],
   "source": [
    "!pytest test_cipher.py -vv"
   ]
  },
  {
   "cell_type": "markdown",
   "id": "ddba45b9",
   "metadata": {},
   "source": [
    "f) Now, expand the test in (1a) using several examples which include a single word, lower case only, upper case only, and a sentence with spaces. Use a fixture for this, so that this remains a single test function."
   ]
  },
  {
   "cell_type": "code",
   "execution_count": 18,
   "id": "2d53218c",
   "metadata": {},
   "outputs": [],
   "source": [
    "@pytest.fixture\n",
    "def subject():\n",
    "    return [\"single\",\"single word test\",\"SINGLE\",\"Test\"]\n",
    "\n",
    "def test_word(subject):\n",
    "    for i in subject():\n",
    "        assert cipher(i,shift=2)"
   ]
  },
  {
   "cell_type": "markdown",
   "id": "ef212920",
   "metadata": {},
   "source": [
    "g) Write a simple integration-like test that relies on the fact that we can encrypt and decrypt a string using the function (using the encrypt parameter). That is, your test should start with a string, encrypt it, decrypt it, and then compare the result to the starting point. Set up a test that runs this for shift values from 1 to 10."
   ]
  },
  {
   "cell_type": "code",
   "execution_count": 44,
   "id": "c840f0e3",
   "metadata": {},
   "outputs": [],
   "source": [
    "def integration_test():\n",
    "    for i in range(1,11):\n",
    "        en=cipher(\"single\",i,True)\n",
    "        de=cipher(en,i,False)\n",
    "        assert de==\"single\",\"Not working\"\n",
    "        i=+1\n",
    "integration_test()"
   ]
  },
  {
   "cell_type": "markdown",
   "id": "c1968e92",
   "metadata": {},
   "source": [
    "2. [OPTIONAL - BONUS] Test class"
   ]
  },
  {
   "cell_type": "markdown",
   "id": "e7af6975",
   "metadata": {},
   "source": [
    "Add the test methods from 1a-1c to a test class. Now, parametrize your class, so that the same five test cases will be sent to all of the test functions in the class. [Note: I did no show this exact procedure in class but this is quite similar to the implementation in 1f].\n",
    "\n",
    "Add the test class to a file called test_cipher_class.py in your folder. Run all the tests in the test class from your command line using pytest (and verbosity setting -vv) and add a screen shot of the command and the output to your homework solution."
   ]
  },
  {
   "cell_type": "code",
   "execution_count": 23,
   "id": "e825840e",
   "metadata": {},
   "outputs": [
    {
     "name": "stdout",
     "output_type": "stream",
     "text": [
      "============================= test session starts =============================\n",
      "platform win32 -- Python 3.8.8, pytest-6.2.3, py-1.10.0, pluggy-0.13.1 -- C:\\Users\\22151\\anaconda3\\python.exe\n",
      "cachedir: .pytest_cache\n",
      "rootdir: C:\\Users\\22151\n",
      "plugins: anyio-2.2.0\n",
      "collecting ... collected 3 items\n",
      "\n",
      "test_cipher_class.py::test_word PASSED                                   [ 33%]\n",
      "test_cipher_class.py::test_negative_shift PASSED                         [ 66%]\n",
      "test_cipher_class.py::test_symbols PASSED                                [100%]\n",
      "\n",
      "============================== warnings summary ===============================\n",
      "anaconda3\\lib\\site-packages\\pyreadline\\py3k_compat.py:8\n",
      "  C:\\Users\\22151\\anaconda3\\lib\\site-packages\\pyreadline\\py3k_compat.py:8: DeprecationWarning: Using or importing the ABCs from 'collections' instead of from 'collections.abc' is deprecated since Python 3.3, and in 3.9 it will stop working\n",
      "    return isinstance(x, collections.Callable)\n",
      "\n",
      "-- Docs: https://docs.pytest.org/en/stable/warnings.html\n",
      "======================== 3 passed, 1 warning in 0.03s =========================\n"
     ]
    }
   ],
   "source": [
    "!pytest test_cipher_class.py -vv"
   ]
  },
  {
   "cell_type": "code",
   "execution_count": null,
   "id": "1748a9f0",
   "metadata": {},
   "outputs": [],
   "source": []
  }
 ],
 "metadata": {
  "kernelspec": {
   "display_name": "Python 3",
   "language": "python",
   "name": "python3"
  },
  "language_info": {
   "codemirror_mode": {
    "name": "ipython",
    "version": 3
   },
   "file_extension": ".py",
   "mimetype": "text/x-python",
   "name": "python",
   "nbconvert_exporter": "python",
   "pygments_lexer": "ipython3",
   "version": "3.8.8"
  }
 },
 "nbformat": 4,
 "nbformat_minor": 5
}
